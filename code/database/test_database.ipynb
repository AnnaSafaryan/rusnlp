{
 "cells": [
  {
   "cell_type": "code",
   "execution_count": 1,
   "metadata": {
    "collapsed": true
   },
   "outputs": [],
   "source": [
    "from bd import DBaseRusNLP\n",
    "from db_reader import ReaderDBase\n",
    "from db_writer import WriterDBase\n",
    "from os import path"
   ]
  },
  {
   "cell_type": "code",
   "execution_count": 2,
   "metadata": {},
   "outputs": [
    {
     "name": "stdout",
     "output_type": "stream",
     "text": [
      "CREATE TABLE IF NOT EXISTS author (id INT PRIMARY KEY, name text, email text, affiliation text)\n",
      "CREATE TABLE IF NOT EXISTS article (id INT PRIMARY KEY, title text, keywords text, abstract text, bibliography text, text text, language text, url text, common_id text, filepath text)\n",
      "CREATE TABLE IF NOT EXISTS conference (id INT PRIMARY KEY, conference text, year int)\n",
      "CREATE TABLE IF NOT EXISTS catalogue (id INT PRIMARY KEY, author_id INT, article_id INT, conference_id INT), CONSTRAINT catalogue_author FOREIGN KEY(author_id) REFERENCES author(id) ON DELETE CASCADE, CONSTRAINT catalogue_article FOREIGN KEY(article_id) REFERENCES article(id) ON DELETE CASCADE, CONSTRAINT catalogue_conference FOREIGN KEY(conference_id) REFERENCES conference(id) ON DELETE CASCADE\n",
      "CREATE TABLE IF NOT EXISTS author_alias (id INT PRIMARY KEY, alias text, author_id INT), CONSTRAINT alias_author FOREIGN KEY(author_id) REFERENCES author(id) ON DELETE CASCADE\n",
      "CREATE TABLE IF NOT EXISTS affiliation_alias (id INT PRIMARY KEY, cluster text, alias text, article_id INT), CONSTRAINT alias_article FOREIGN KEY(article_id) REFERENCES article(id) ON DELETE CASCADE\n",
      "SELECT COUNT(id)  FROM article WHERE language=\"ru\"\n",
      "SELECT COUNT(id)  FROM article WHERE language=\"en\"\n"
     ]
    }
   ],
   "source": [
    "bd_m = DBaseRusNLP(path.join('..', '..', '..', 'database', 'rus_nlp.db'), path.join('..', '..', '..', 'database', 'database_metadata.json'))\n",
    "reader = ReaderDBase(bd_m)\n",
    "writer = WriterDBase(bd_m)"
   ]
  },
  {
   "cell_type": "code",
   "execution_count": 3,
   "metadata": {
    "collapsed": true
   },
   "outputs": [],
   "source": [
    "import pickle\n",
    "with open(path.join('..', '..', '..', 'prepared-data', 'pickles', 'all.pickle'), 'rb') as f:\n",
    "    a = pickle.load(f)"
   ]
  },
  {
   "cell_type": "code",
   "execution_count": 4,
   "metadata": {},
   "outputs": [
    {
     "name": "stdout",
     "output_type": "stream",
     "text": [
      "SELECT DISTINCT article.title FROM catalogue JOIN author JOIN article JOIN author_alias ON author.id=author_alias.author_id AND catalogue.author_id=author.id AND catalogue.article_id=article.id WHERE author_alias.alias =\"Klyshinskij E. S.\"\n"
     ]
    },
    {
     "data": {
      "text/plain": [
       "['Некоторые Сложности Автоматизированной Лемматизации Несловарных Словоформ (Some Difficulties in Automated Lemmatization of Word Forms not Contained in the Dictionary)',\n",
       " 'Автоматическое Формирование Базы Сочетаемости Слов на Основе Очень Большого Корпуса Текстов (Automatic Construction of Word Combination Database Using a Huge Text Corpus)',\n",
       " 'Метод Порождения Правил Межъязыковой Машинной Траскрипции',\n",
       " 'Lexical Research in Russian: are Modern Corpora Flexible Enough?',\n",
       " 'Corpus of Syntactic Co-occurrences: a Delayed Promise']"
      ]
     },
     "execution_count": 4,
     "metadata": {},
     "output_type": "execute_result"
    }
   ],
   "source": [
    "reader.select_articles_of_author(\"Klyshinskij E. S.\")"
   ]
  },
  {
   "cell_type": "code",
   "execution_count": 5,
   "metadata": {},
   "outputs": [
    {
     "name": "stdout",
     "output_type": "stream",
     "text": [
      "SELECT DISTINCT year FROM catalogue INNER JOIN conference INNER JOIN article INNER JOIN author INNER JOIN author_alias ON author.id=author_alias.author_id AND catalogue.conference_id=conference.id AND catalogue.article_id=article.id AND author.id=catalogue.author_id\n"
     ]
    },
    {
     "data": {
      "text/plain": [
       "[(2013,),\n",
       " (2014,),\n",
       " (2015,),\n",
       " (2012,),\n",
       " (2008,),\n",
       " (2001,),\n",
       " (2006,),\n",
       " (2007,),\n",
       " (2000,),\n",
       " (2009,),\n",
       " (2017,),\n",
       " (2010,),\n",
       " (2011,),\n",
       " (2016,),\n",
       " (2005,),\n",
       " (2002,),\n",
       " (2003,),\n",
       " (2004,)]"
      ]
     },
     "execution_count": 5,
     "metadata": {},
     "output_type": "execute_result"
    }
   ],
   "source": [
    "reader.select_all_from_column(\"year\")"
   ]
  },
  {
   "cell_type": "code",
   "execution_count": 6,
   "metadata": {},
   "outputs": [
    {
     "name": "stdout",
     "output_type": "stream",
     "text": [
      "SELECT DISTINCT article.title FROM catalogue JOIN conference JOIN article ON catalogue.conference_id=conference.id AND catalogue.article_id=article.id WHERE conference.conference='AIST'\n"
     ]
    },
    {
     "data": {
      "text/plain": [
       "['Интеграция Информационных Систем с Применением Семантических Технологий',\n",
       " 'Генерация Сниппетов в Поисковых Системах как Задача Автоматического Квазиреферирования',\n",
       " 'Использование Ресурсов Интернета для Построения Таксономии',\n",
       " 'Аннотированные Суффиксные Деревья: Особенности Реализации',\n",
       " 'Серелекс: Поиск и Визуализация Семантически Связанных Слов',\n",
       " 'Применение Методов Машинного Перевода для Анализа Древнерусских Музыкальных Рукописей',\n",
       " 'Автоматическое Извлечение Правил Для Снятия Морфологической Неоднозначности',\n",
       " 'Оценка Сниппетов в Поиске Mail.ru: Корреляция Автоматических и Ассессорских Оценок',\n",
       " '«бизнес Семантика»: Практика Интеграции Информационных Систем с Использованием Семантических Технологий',\n",
       " 'Анализ Статистических Алгоритмов Снятия Морфологической Омонимии в Русском Языке',\n",
       " 'Синтаксический Анализ Музыкальных Текстов',\n",
       " 'Review of Relation Extraction Methods: what is New out There?',\n",
       " 'Tutorial on Probabilistic Topic Modeling: Additive Regularization for Stochastic Matrix Factorization',\n",
       " 'A Fast Mathematical Morphological Algorithm of Video-based Moving Forklift Truck Detection in Noisy Environment',\n",
       " 'Editing and Representation of Ancient Russian Semiographic Chants on the Web',\n",
       " 'Detection of Domain-speciﬁc Trends in Text Collections',\n",
       " 'Single-sentence Readability Prediction in Russian',\n",
       " 'Automatic Generation of Text-based Open Cloze Exercises',\n",
       " 'Conceptual Maps: Construction over a Text Collection and Analysis',\n",
       " 'Detecting Gender by Full Name: Experiments with the Russian Language',\n",
       " 'Clustering Narrow-domain Short Texts Using K-means, Linguistic Patterns and Lsi',\n",
       " 'Analysis of Twitter Users’ Mood for Prediction of Gold and Silver Prices in the Stock Market',\n",
       " 'Evaluation of the Delta Tf-idf Features for Sentiment Analysis',\n",
       " 'Cognitive Semiotic Model for Query Expansion in Question Answering',\n",
       " 'Clause-based Approach to Extracting Problem Phrases from User Reviews of Products',\n",
       " 'A Heuristic Strategy for Extracting Terms from Scientiﬁc Texts',\n",
       " 'Text Analysis with Enhanced Annotated Suﬃx Trees: Algorithms and Implementation',\n",
       " 'Morphological Analyzer and Generator for Russian and Ukrainian Languages',\n",
       " 'Semantic Role Labeling for Russian Language Based on Russian Framebank',\n",
       " 'Supervised Approach to Finding most Frequent Senses in Russian',\n",
       " 'Framebank: a Database of Russian Lexical Constructions',\n",
       " 'Tagbag: Annotating a Foreign Language Lexical Resource with Pictures',\n",
       " 'Bigartm: Open Source Library for Regularized Multimodal Topic Modeling of Large Collections',\n",
       " 'Автоматизация Использования Таксономий для Аннотирования Текстовых Документов',\n",
       " 'Система Автоматического Квазиреферирования Wexsy',\n",
       " 'Кластеризация Текстовых Данных с Помощью Модифицированного Генетического Алгоритма',\n",
       " 'Рекомендательные Системы: Тематический Обзор',\n",
       " 'Автоматизация Подготовки Исходных  Текстовых Данных из Сети Интернет для Дальнейшего Анализа',\n",
       " 'Извлечение Семантических Отношений из Статей Википедии с Помощью Алгоритмов Ближайших Соседей',\n",
       " 'Автоматическое Снятие Морфологической Неоднозначности при Разметке Корпуса Текстов',\n",
       " 'Автоматизированная Система Распознания Рукописных Исторических Документов',\n",
       " 'Особенности Создания Поискового Индекса к Фотографиям в Цифровом Историческом Альбоме',\n",
       " 'Применение Онтологии при Синтезе Изображения по Тексту',\n",
       " 'Combining Thesaurus Knowledge and Probabilistic Topic Models',\n",
       " 'Syntaxnet Errors from the Linguistic Point of View',\n",
       " 'Automated Detection of Non-relevant Posts on the Russian Imageboard “2Ch”: Importance Of\\nthe Choice of Word Representations',\n",
       " 'Fighting with the Sparsity of Synonymy Dictionaries for Automatic Synset Induction',\n",
       " 'Domain Adaptation for Resume Classification Using Convolutional Neural Networks',\n",
       " 'Russian-language Question Classification: a New Typology and First Results',\n",
       " 'Rotations and Interpretability of Word Embeddings: the Case of the Russian Language',\n",
       " 'Men are from Mars, Women are from Venus: Evaluation and Modelling of Verbal Associations',\n",
       " 'Automated Detection of Adverse Drug Reactions from Social Media Posts with Machine Learning',\n",
       " 'Size Vs. Structure in Training Corpora for Word Embedding Models: Araneum Russicum Maximum and Russian National Corpus',\n",
       " 'A Morphological Processor for Russian with Extended Functionality',\n",
       " 'Bigram Anchor Words Topic Model',\n",
       " 'Parallel Non-blocking Deterministic Algorithm for Online Topic Modeling',\n",
       " 'Flexible Context Extraction for Keywords in Russian Automatic Speech Recognition Results',\n",
       " 'Webvectors: a Toolkit for Building Web Interfaces for Vector Semantic Models',\n",
       " 'Morphological Analysis for Russian: Integration and Comparison of Taggers',\n",
       " 'Anti-spooﬁng Methods for Automatic Speaker Veriﬁcation System',\n",
       " 'Combining Knowledge and Crf-based Approach to Named Entity Recognition in Russian',\n",
       " 'User Proﬁling in Text-based Recommender Systems Based on Distributed Word Representations',\n",
       " 'Constructing Aspect-based Sentiment Lexicons with Topic Modeling',\n",
       " 'Human and Machine Judgements for Russian Semantic Relatedness',\n",
       " 'Evaluating Distributional Semantic Models with Russian Noun-adjective Compositions',\n",
       " 'Applying Word Embeddings to Leverage Knowledge Available in One Language in Order to Solve a Practical Text Classiﬁcation Problem in Another Language']"
      ]
     },
     "execution_count": 6,
     "metadata": {},
     "output_type": "execute_result"
    }
   ],
   "source": [
    "reader.select_articles_from_conference(\"AIST\")"
   ]
  },
  {
   "cell_type": "code",
   "execution_count": 7,
   "metadata": {},
   "outputs": [
    {
     "name": "stdout",
     "output_type": "stream",
     "text": [
      "SELECT DISTINCT title FROM article  WHERE common_id=\"bhj\"\n",
      "SELECT DISTINCT name FROM author JOIN catalogue JOIN article ON author.id=author_id AND article_id=article.id WHERE common_id=\"bhj\"\n"
     ]
    },
    {
     "data": {
      "text/plain": [
       "'No id in db'"
      ]
     },
     "execution_count": 7,
     "metadata": {},
     "output_type": "execute_result"
    }
   ],
   "source": [
    "reader.select_author_and_title_by_id(\"bhj\")"
   ]
  },
  {
   "cell_type": "code",
   "execution_count": 8,
   "metadata": {},
   "outputs": [
    {
     "name": "stdout",
     "output_type": "stream",
     "text": [
      "SELECT DISTINCT article.title FROM catalogue JOIN author JOIN article ON article.id=article_id AND author.id=author_id WHERE author.affiliation = 'МГУ им. М.В. Ломоносова'\n"
     ]
    },
    {
     "data": {
      "text/plain": [
       "[('Конструкция с Творительным Формы «X Y-ом» (Describing Shape: Instrumental Construction «X Y-ом»)',),\n",
       " ('«наивная Механика» в Языке и Онтологии (“Naïve Mechanics” in Language and Ontology)',),\n",
       " ('Универсальное Терминологическое Пространство',),\n",
       " ('Метафора Мертвая и Метафора Живая:экспериментальный Подход к Паремиологии Дунганского и Китайского Языков',),\n",
       " ('Метафорика Ситуационного Образа: Когнитивный Анализ Устойчивых Сравнений',),\n",
       " ('Методы Формироваия Глоссариев в Универсальном Терминологическом Пространстве',),\n",
       " ('Формирование Лингвистических Баз Знаний: Статистика Vs. Грамматика',)]"
      ]
     },
     "execution_count": 8,
     "metadata": {},
     "output_type": "execute_result"
    }
   ],
   "source": [
    "reader.select_article_by_affiliation('МГУ им. М.В. Ломоносова')"
   ]
  },
  {
   "cell_type": "code",
   "execution_count": 9,
   "metadata": {},
   "outputs": [
    {
     "data": {
      "text/plain": [
       "[('table',\n",
       "  'author',\n",
       "  'author',\n",
       "  2,\n",
       "  'CREATE TABLE author (id INT PRIMARY KEY, name text, email text, affiliation text)'),\n",
       " ('table',\n",
       "  'conference',\n",
       "  'conference',\n",
       "  6,\n",
       "  'CREATE TABLE conference (id INT PRIMARY KEY, conference text, year int)'),\n",
       " ('table',\n",
       "  'catalogue',\n",
       "  'catalogue',\n",
       "  8,\n",
       "  'CREATE TABLE catalogue (id INT PRIMARY KEY, author_id INT, article_id INT, conference_id INT, CONSTRAINT catalogue_author FOREIGN KEY(author_id) REFERENCES author(id) ON DELETE CASCADE, CONSTRAINT catalogue_article FOREIGN KEY(article_id) REFERENCES article(id) ON DELETE CASCADE, CONSTRAINT catalogue_conference FOREIGN KEY(conference_id) REFERENCES conference(id) ON DELETE CASCADE)'),\n",
       " ('table',\n",
       "  'author_alias',\n",
       "  'author_alias',\n",
       "  10,\n",
       "  'CREATE TABLE author_alias (id INT PRIMARY KEY, alias text, author_id INT, CONSTRAINT alias_author FOREIGN KEY(author_id) REFERENCES author(id) ON DELETE CASCADE)'),\n",
       " ('table',\n",
       "  'affiliation_alias',\n",
       "  'affiliation_alias',\n",
       "  12,\n",
       "  'CREATE TABLE affiliation_alias (id INT PRIMARY KEY, cluster text, alias text, author_id INT, CONSTRAINT alias_affiliation FOREIGN KEY(author_id) REFERENCES author(id) ON DELETE CASCADE)'),\n",
       " ('table',\n",
       "  'article',\n",
       "  'article',\n",
       "  79,\n",
       "  'CREATE TABLE \"article\" (id INT PRIMARY KEY, title text, keywords text, abstract text, bibliography text, language text, url text, common_id text, filepath text)')]"
      ]
     },
     "execution_count": 9,
     "metadata": {},
     "output_type": "execute_result"
    }
   ],
   "source": [
    "bd_m.get_db_info()"
   ]
  },
  {
   "cell_type": "code",
   "execution_count": 12,
   "metadata": {},
   "outputs": [
    {
     "data": {
      "text/html": [
       "<div>\n",
       "<style>\n",
       "    .dataframe thead tr:only-child th {\n",
       "        text-align: right;\n",
       "    }\n",
       "\n",
       "    .dataframe thead th {\n",
       "        text-align: left;\n",
       "    }\n",
       "\n",
       "    .dataframe tbody tr th {\n",
       "        vertical-align: top;\n",
       "    }\n",
       "</style>\n",
       "<table border=\"1\" class=\"dataframe\">\n",
       "  <thead>\n",
       "    <tr style=\"text-align: right;\">\n",
       "      <th></th>\n",
       "      <th>parameter</th>\n",
       "      <th>count</th>\n",
       "    </tr>\n",
       "  </thead>\n",
       "  <tbody>\n",
       "    <tr>\n",
       "      <th>0</th>\n",
       "      <td>количество статей</td>\n",
       "      <td>1804</td>\n",
       "    </tr>\n",
       "    <tr>\n",
       "      <th>1</th>\n",
       "      <td>количество авторов</td>\n",
       "      <td>1326</td>\n",
       "    </tr>\n",
       "    <tr>\n",
       "      <th>2</th>\n",
       "      <td>количество аффилиаций</td>\n",
       "      <td>815</td>\n",
       "    </tr>\n",
       "    <tr>\n",
       "      <th>3</th>\n",
       "      <td>количество русских статей</td>\n",
       "      <td>1401</td>\n",
       "    </tr>\n",
       "    <tr>\n",
       "      <th>4</th>\n",
       "      <td>количество английских статей</td>\n",
       "      <td>403</td>\n",
       "    </tr>\n",
       "    <tr>\n",
       "      <th>5</th>\n",
       "      <td>объем корпуса в токенах</td>\n",
       "      <td>7515811</td>\n",
       "    </tr>\n",
       "  </tbody>\n",
       "</table>\n",
       "</div>"
      ],
      "text/plain": [
       "                      parameter    count\n",
       "0             количество статей     1804\n",
       "1            количество авторов     1326\n",
       "2         количество аффилиаций      815\n",
       "3     количество русских статей     1401\n",
       "4  количество английских статей      403\n",
       "5       объем корпуса в токенах  7515811"
      ]
     },
     "execution_count": 12,
     "metadata": {},
     "output_type": "execute_result"
    }
   ],
   "source": [
    "reader.update_statistics()\n",
    "reader.get_statistics()"
   ]
  },
  {
   "cell_type": "code",
   "execution_count": null,
   "metadata": {
    "collapsed": true
   },
   "outputs": [],
   "source": []
  }
 ],
 "metadata": {
  "kernelspec": {
   "display_name": "Python 3",
   "language": "python",
   "name": "python3"
  },
  "language_info": {
   "codemirror_mode": {
    "name": "ipython",
    "version": 2
   },
   "file_extension": ".py",
   "mimetype": "text/x-python",
   "name": "python",
   "nbconvert_exporter": "python",
   "pygments_lexer": "ipython2",
   "version": "2.7.12"
  }
 },
 "nbformat": 4,
 "nbformat_minor": 2
}
