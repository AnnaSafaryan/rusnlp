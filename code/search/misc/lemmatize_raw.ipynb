{
 "cells": [
  {
   "cell_type": "code",
   "execution_count": 46,
   "metadata": {
    "collapsed": true
   },
   "outputs": [],
   "source": [
    "from pandas import read_csv\n",
    "from os import walk, path\n",
    "from re import sub\n",
    "from pycorenlp import StanfordCoreNLP\n",
    "from pickle import dump, load\n",
    "\n",
    "from nltk.stem import PorterStemmer\n",
    "from nltk.tokenize import sent_tokenize, word_tokenize\n",
    "from nltk.corpus import stopwords\n",
    "\n",
    "ps = PorterStemmer()\n",
    "stop = stopwords.words('english')"
   ]
  },
  {
   "cell_type": "markdown",
   "metadata": {},
   "source": [
    "# Cut keywords and references"
   ]
  },
  {
   "cell_type": "code",
   "execution_count": 2,
   "metadata": {
    "collapsed": true
   },
   "outputs": [],
   "source": [
    "langs = read_csv('../prepared-data/texts/detected_languages.tsv', sep='\\t')"
   ]
  },
  {
   "cell_type": "code",
   "execution_count": 3,
   "metadata": {
    "collapsed": true
   },
   "outputs": [],
   "source": [
    "def get_lang(num):\n",
    "    return langs['Lang'][int(num)-1]"
   ]
  },
  {
   "cell_type": "code",
   "execution_count": 30,
   "metadata": {
    "collapsed": true
   },
   "outputs": [],
   "source": [
    "eng_files = []\n",
    "\n",
    "for a, b, files in walk(path.join('..', 'prepared-data', 'texts')):\n",
    "    for file in files:\n",
    "        if file.split('.')[1] != 'txt':\n",
    "            continue\n",
    "        if get_lang(file.split('.')[0]) == 'en':\n",
    "            with open(a + '/' + file, 'r') as f:\n",
    "                eng_files.append(f.read())"
   ]
  },
  {
   "cell_type": "code",
   "execution_count": 5,
   "metadata": {
    "collapsed": true
   },
   "outputs": [],
   "source": [
    "kw_marker_1 = 'Ключевые  слова'\n",
    "kw_marker_5 = 'Ключевые  слова'\n",
    "kw_marker_2 = 'Key words'\n",
    "kw_marker_3 = 'Ключевые слова'\n",
    "kw_marker_4 = 'Keywords'\n",
    "intro_marker_1 = 'Introduction'\n",
    "intro_marker_2 = 'INTRODUCTION'\n",
    "ref_marker_1 = 'References'\n",
    "ref_marker_2 = 'REFERENCES'\n",
    "\n",
    "eng_files_cleared = []\n",
    "\n",
    "for num, eng_file in enumerate(eng_files):\n",
    "    i = eng_file\n",
    "    if eng_file.split(' ', 1)[0] == 'Keywords:':\n",
    "        i = eng_file.split('\\n\\n', 1)[1]\n",
    "    temp = i\n",
    "    if kw_marker_2 in i:\n",
    "        temp = i.split(kw_marker_2)[1].split('\\n\\n', 1)[1]\n",
    "    elif kw_marker_4 in i:\n",
    "        temp = i.split(kw_marker_4)[1].split('\\n\\n', 1)[1]\n",
    "    else:\n",
    "        temp = i\n",
    "    cleartemp = temp\n",
    "    if kw_marker_1 in temp:\n",
    "        cleartemp  = i.split(kw_marker_1)[1].split('\\n\\n', 1)[1]\n",
    "    elif kw_marker_3 in temp:\n",
    "        cleartemp  = i.split(kw_marker_3)[1].split('\\n\\n', 1)[1]\n",
    "    else:\n",
    "        cleartemp  = temp\n",
    "    cleartemp = cleartemp.split(ref_marker_1)[0]\n",
    "    cleartemp = cleartemp.split(ref_marker_1)[0]\n",
    "    if cleartemp.find(intro_marker_1) > 5000:\n",
    "        eng_files_cleared.append(str(cleartemp))\n",
    "        continue\n",
    "    if intro_marker_1 in cleartemp:\n",
    "        eng_files_cleared.append(cleartemp.split(intro_marker_1)[1].split('\\n\\n', 1)[1])\n",
    "    elif intro_marker_2 in cleartemp:\n",
    "        eng_files_cleared.append(cleartemp.split(intro_marker_2)[1].split('\\n\\n', 1)[1])\n",
    "    else:\n",
    "        eng_files_cleared.append(str(cleartemp))"
   ]
  },
  {
   "cell_type": "code",
   "execution_count": 10,
   "metadata": {},
   "outputs": [
    {
     "ename": "FileNotFoundError",
     "evalue": "[Errno 2] No such file or directory: '../prepared-data/texts-without-refs-and-keywords/0.txt'",
     "output_type": "error",
     "traceback": [
      "\u001b[0;31m----------------------------------------------------------------\u001b[0m",
      "\u001b[0;31mFileNotFoundError\u001b[0m              Traceback (most recent call last)",
      "\u001b[0;32m<ipython-input-10-212b648a5690>\u001b[0m in \u001b[0;36m<module>\u001b[0;34m()\u001b[0m\n\u001b[1;32m      1\u001b[0m \u001b[0;32mfor\u001b[0m \u001b[0ma\u001b[0m\u001b[0;34m,\u001b[0m \u001b[0mi\u001b[0m \u001b[0;32min\u001b[0m \u001b[0menumerate\u001b[0m\u001b[0;34m(\u001b[0m\u001b[0meng_files_cleared\u001b[0m\u001b[0;34m)\u001b[0m\u001b[0;34m:\u001b[0m\u001b[0;34m\u001b[0m\u001b[0m\n\u001b[0;32m----> 2\u001b[0;31m     \u001b[0;32mwith\u001b[0m \u001b[0mopen\u001b[0m\u001b[0;34m(\u001b[0m\u001b[0;34m'../prepared-data/texts-without-refs-and-keywords/'\u001b[0m \u001b[0;34m+\u001b[0m \u001b[0mstr\u001b[0m\u001b[0;34m(\u001b[0m\u001b[0ma\u001b[0m\u001b[0;34m)\u001b[0m \u001b[0;34m+\u001b[0m \u001b[0;34m'.txt'\u001b[0m\u001b[0;34m,\u001b[0m \u001b[0;34m'w'\u001b[0m\u001b[0;34m)\u001b[0m \u001b[0;32mas\u001b[0m \u001b[0mf\u001b[0m\u001b[0;34m:\u001b[0m\u001b[0;34m\u001b[0m\u001b[0m\n\u001b[0m\u001b[1;32m      3\u001b[0m         \u001b[0mf\u001b[0m\u001b[0;34m.\u001b[0m\u001b[0mwrite\u001b[0m\u001b[0;34m(\u001b[0m\u001b[0mi\u001b[0m\u001b[0;34m)\u001b[0m\u001b[0;34m\u001b[0m\u001b[0m\n",
      "\u001b[0;31mFileNotFoundError\u001b[0m: [Errno 2] No such file or directory: '../prepared-data/texts-without-refs-and-keywords/0.txt'"
     ]
    }
   ],
   "source": [
    "for a, i in enumerate(eng_files_cleared):\n",
    "    with open('../prepared-data/texts-without-refs-and-keywords/' + str(a) + '.txt', 'w') as f:\n",
    "        f.write(i)"
   ]
  },
  {
   "cell_type": "markdown",
   "metadata": {},
   "source": [
    "# Make alpha"
   ]
  },
  {
   "cell_type": "code",
   "execution_count": 33,
   "metadata": {
    "collapsed": true
   },
   "outputs": [],
   "source": [
    "eng_files_alpha = []\n",
    "\n",
    "for i in eng_files_cleared:\n",
    "    text = sub('http\\S+|www\\S+', '', i)\n",
    "    eng_files_alpha.append(sub('\\.+', '.', sub(' \\.', '.', sub(' +',' ', sub(r'[^,.a-zA-Z -]+', '', text.replace('-\\n', '').replace('\\n', ' '))))))"
   ]
  },
  {
   "cell_type": "code",
   "execution_count": 36,
   "metadata": {
    "collapsed": true
   },
   "outputs": [],
   "source": [
    "for a, i in enumerate(eng_files_alpha):\n",
    "    with open('../prepared-data/alpha/' + str(a) + '.txt', 'w') as f:\n",
    "        f.write(i)"
   ]
  },
  {
   "cell_type": "code",
   "execution_count": 47,
   "metadata": {
    "collapsed": true
   },
   "outputs": [],
   "source": [
    "with open('alpha', 'rb') as f:\n",
    "    eng_files_alpha = load(f)"
   ]
  },
  {
   "cell_type": "markdown",
   "metadata": {},
   "source": [
    "## Lemmatize"
   ]
  },
  {
   "cell_type": "code",
   "execution_count": 57,
   "metadata": {},
   "outputs": [],
   "source": [
    "eng_files_stemmed = []\n",
    "\n",
    "for file in eng_files_alpha:\n",
    "    eng_files_stemmed.append(sub('\\,+', ',', sub('\\.+', '.', sub(' +\\.', '.', sub(' +\\,', ',', sub(' +',' ', ' '.join([ps.stem(word) for word in word_tokenize(file) if word not in stop])))))))"
   ]
  },
  {
   "cell_type": "code",
   "execution_count": 62,
   "metadata": {
    "collapsed": true
   },
   "outputs": [],
   "source": [
    "with open('stemmed', 'wb') as f:\n",
    "    dump(eng_files_stemmed, f)"
   ]
  },
  {
   "cell_type": "code",
   "execution_count": 56,
   "metadata": {},
   "outputs": [
    {
     "data": {
      "text/plain": [
       "'these linguist unit usual treat restrict co-occurr two syntact bound element kilgariff. ggg'"
      ]
     },
     "execution_count": 56,
     "metadata": {},
     "output_type": "execute_result"
    }
   ],
   "source": [
    "sub(' +\\.', '.','these linguist unit usual treat restrict co-occurr two syntact bound element kilgariff . ggg')"
   ]
  },
  {
   "cell_type": "code",
   "execution_count": null,
   "metadata": {
    "collapsed": true
   },
   "outputs": [],
   "source": []
  }
 ],
 "metadata": {
  "kernelspec": {
   "display_name": "Python 3",
   "language": "python",
   "name": "python3"
  },
  "language_info": {
   "codemirror_mode": {
    "name": "ipython",
    "version": 3
   },
   "file_extension": ".py",
   "mimetype": "text/x-python",
   "name": "python",
   "nbconvert_exporter": "python",
   "pygments_lexer": "ipython3",
   "version": "3.6.1"
  }
 },
 "nbformat": 4,
 "nbformat_minor": 2
}
