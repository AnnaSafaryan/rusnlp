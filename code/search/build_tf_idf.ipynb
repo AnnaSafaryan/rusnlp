{
 "cells": [
  {
   "cell_type": "code",
   "execution_count": 52,
   "metadata": {
    "collapsed": true
   },
   "outputs": [],
   "source": [
    "from build_tfidf import extract_lemmas\n",
    "from os import listdir\n",
    "from os.path import join\n",
    "from gensim.models.doc2vec import Doc2Vec, TaggedDocument\n",
    "import numpy as np"
   ]
  },
  {
   "cell_type": "code",
   "execution_count": 78,
   "metadata": {
    "collapsed": true
   },
   "outputs": [],
   "source": [
    "files = [f for f in listdir('../prepared-data/texts-en-conll-udpipe/') if f.endswith('.txt')]\n",
    "\n",
    "texts = [''] * len(files)\n",
    "\n",
    "for doc in files:\n",
    "    data = open(join('../prepared-data/texts-en-conll-udpipe/', doc)).readlines()\n",
    "    text = extract_lemmas(data)\n",
    "    texts[int(doc.split('.')[0])] = text"
   ]
  },
  {
   "cell_type": "code",
   "execution_count": 95,
   "metadata": {},
   "outputs": [
    {
     "data": {
      "text/plain": [
       "10756504"
      ]
     },
     "execution_count": 95,
     "metadata": {},
     "output_type": "execute_result"
    }
   ],
   "source": [
    "sentences = [gensim.models.doc2vec.TaggedDocument(words=text, tags=[tid]) for tid, text in enumerate(texts)]\n",
    "model = Doc2Vec(size=100, window=10, min_count=2, workers=4, alpha=0.025, min_alpha=0.01, dm=0)\n",
    "model.build_vocab(sentences)\n",
    "model.train(sentences, total_examples=len(sentences), epochs=10)"
   ]
  },
  {
   "cell_type": "code",
   "execution_count": 97,
   "metadata": {
    "collapsed": true
   },
   "outputs": [],
   "source": [
    "model.save('doc2vec-en')"
   ]
  },
  {
   "cell_type": "code",
   "execution_count": 96,
   "metadata": {},
   "outputs": [
    {
     "data": {
      "text/plain": [
       "[(193, 0.5720101594924927),\n",
       " (186, 0.5710703134536743),\n",
       " (425, 0.5219242572784424),\n",
       " (163, 0.5169363021850586),\n",
       " (436, 0.5070018172264099),\n",
       " (42, 0.505093514919281),\n",
       " (320, 0.4954800605773926),\n",
       " (254, 0.4952631890773773),\n",
       " (257, 0.48987990617752075),\n",
       " (286, 0.4808141589164734)]"
      ]
     },
     "execution_count": 96,
     "metadata": {},
     "output_type": "execute_result"
    }
   ],
   "source": [
    "model.docvecs.most_similar(103)"
   ]
  },
  {
   "cell_type": "code",
   "execution_count": 100,
   "metadata": {
    "collapsed": true
   },
   "outputs": [],
   "source": [
    "mdl = Doc2Vec.load('doc2vec-en')"
   ]
  },
  {
   "cell_type": "code",
   "execution_count": null,
   "metadata": {
    "collapsed": true
   },
   "outputs": [],
   "source": []
  }
 ],
 "metadata": {
  "kernelspec": {
   "display_name": "Python 3",
   "language": "python",
   "name": "python3"
  },
  "language_info": {
   "codemirror_mode": {
    "name": "ipython",
    "version": 3
   },
   "file_extension": ".py",
   "mimetype": "text/x-python",
   "name": "python",
   "nbconvert_exporter": "python",
   "pygments_lexer": "ipython3",
   "version": "3.6.1"
  }
 },
 "nbformat": 4,
 "nbformat_minor": 2
}
