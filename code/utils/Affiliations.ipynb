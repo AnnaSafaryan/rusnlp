{
  "nbformat": 4,
  "nbformat_minor": 0,
  "metadata": {
    "colab": {
      "name": "Affiliations.ipynb",
      "provenance": [],
      "collapsed_sections": []
    },
    "kernelspec": {
      "name": "python3",
      "display_name": "Python 3"
    }
  },
  "cells": [
    {
      "cell_type": "markdown",
      "metadata": {
        "id": "ruC9_Z86HOJF"
      },
      "source": [
        "#import"
      ]
    },
    {
      "cell_type": "code",
      "metadata": {
        "id": "L6cPAlfAGh5l"
      },
      "source": [
        "import pandas as pd\r\n",
        "import re\r\n",
        "import numpy as np\r\n",
        "from sklearn.metrics import f1_score\r\n",
        "from string import punctuation\r\n",
        "from sklearn.feature_extraction.text import TfidfVectorizer, CountVectorizer\r\n",
        "from sklearn.model_selection import train_test_split\r\n",
        "from sklearn.metrics import classification_report\r\n",
        "from sklearn import linear_model\r\n",
        "from sklearn.model_selection import cross_val_score\r\n",
        "from  sklearn.model_selection import cross_validate"
      ],
      "execution_count": 1,
      "outputs": []
    },
    {
      "cell_type": "markdown",
      "metadata": {
        "id": "uhIMMXIJHTjz"
      },
      "source": [
        "#Google drive"
      ]
    },
    {
      "cell_type": "code",
      "metadata": {
        "colab": {
          "base_uri": "https://localhost:8080/"
        },
        "id": "Jzd7XeQZHF2a",
        "outputId": "107aa07b-18dd-41ab-90e4-e6e44c7245d7"
      },
      "source": [
        "from google.colab import drive \r\n",
        "drive.mount('/gdrive')"
      ],
      "execution_count": 2,
      "outputs": [
        {
          "output_type": "stream",
          "text": [
            "Drive already mounted at /gdrive; to attempt to forcibly remount, call drive.mount(\"/gdrive\", force_remount=True).\n"
          ],
          "name": "stdout"
        }
      ]
    },
    {
      "cell_type": "markdown",
      "metadata": {
        "id": "fh5EsXd_Hadg"
      },
      "source": [
        "#Data"
      ]
    },
    {
      "cell_type": "code",
      "metadata": {
        "id": "ZDhf97XAJIIf"
      },
      "source": [
        "names = ['ind', 'aff', 'variation']"
      ],
      "execution_count": 3,
      "outputs": []
    },
    {
      "cell_type": "code",
      "metadata": {
        "id": "tLbuexA0Hb2k"
      },
      "source": [
        "aff = pd.read_csv('/gdrive/My Drive/current_affiliations.tsv', sep='\\t', index_col=0, names=names)"
      ],
      "execution_count": 4,
      "outputs": []
    },
    {
      "cell_type": "code",
      "metadata": {
        "id": "mBz8jyIlRpK1",
        "colab": {
          "base_uri": "https://localhost:8080/",
          "height": 455
        },
        "outputId": "02dc421a-8190-4c80-f255-4f6ad4ef61a3"
      },
      "source": [
        "aff"
      ],
      "execution_count": 5,
      "outputs": [
        {
          "output_type": "execute_result",
          "data": {
            "text/html": [
              "<div>\n",
              "<style scoped>\n",
              "    .dataframe tbody tr th:only-of-type {\n",
              "        vertical-align: middle;\n",
              "    }\n",
              "\n",
              "    .dataframe tbody tr th {\n",
              "        vertical-align: top;\n",
              "    }\n",
              "\n",
              "    .dataframe thead th {\n",
              "        text-align: right;\n",
              "    }\n",
              "</style>\n",
              "<table border=\"1\" class=\"dataframe\">\n",
              "  <thead>\n",
              "    <tr style=\"text-align: right;\">\n",
              "      <th></th>\n",
              "      <th>aff</th>\n",
              "      <th>variation</th>\n",
              "    </tr>\n",
              "    <tr>\n",
              "      <th>ind</th>\n",
              "      <th></th>\n",
              "      <th></th>\n",
              "    </tr>\n",
              "  </thead>\n",
              "  <tbody>\n",
              "    <tr>\n",
              "      <th>0</th>\n",
              "      <td>MPSU</td>\n",
              "      <td>Moscow Pedagogical State University</td>\n",
              "    </tr>\n",
              "    <tr>\n",
              "      <th>0</th>\n",
              "      <td>MPSU</td>\n",
              "      <td>Moscow Pedagogical State University, Moscow, R...</td>\n",
              "    </tr>\n",
              "    <tr>\n",
              "      <th>0</th>\n",
              "      <td>MPSU</td>\n",
              "      <td>MPSU</td>\n",
              "    </tr>\n",
              "    <tr>\n",
              "      <th>0</th>\n",
              "      <td>MPSU</td>\n",
              "      <td>ИВ РАН, МПГУ, Москва, Россия</td>\n",
              "    </tr>\n",
              "    <tr>\n",
              "      <th>0</th>\n",
              "      <td>MPSU</td>\n",
              "      <td>Московский государственный педагогический унив...</td>\n",
              "    </tr>\n",
              "    <tr>\n",
              "      <th>...</th>\n",
              "      <td>...</td>\n",
              "      <td>...</td>\n",
              "    </tr>\n",
              "    <tr>\n",
              "      <th>10000</th>\n",
              "      <td>Unknown</td>\n",
              "      <td>Хельсинки</td>\n",
              "    </tr>\n",
              "    <tr>\n",
              "      <th>10000</th>\n",
              "      <td>Unknown</td>\n",
              "      <td>Чехия</td>\n",
              "    </tr>\n",
              "    <tr>\n",
              "      <th>10000</th>\n",
              "      <td>Unknown</td>\n",
              "      <td>Днепропетровск</td>\n",
              "    </tr>\n",
              "    <tr>\n",
              "      <th>10000</th>\n",
              "      <td>Unknown</td>\n",
              "      <td>Нью-Йорк</td>\n",
              "    </tr>\n",
              "    <tr>\n",
              "      <th>10000</th>\n",
              "      <td>Unknown</td>\n",
              "      <td>МОСКВА</td>\n",
              "    </tr>\n",
              "  </tbody>\n",
              "</table>\n",
              "<p>1556 rows × 2 columns</p>\n",
              "</div>"
            ],
            "text/plain": [
              "           aff                                          variation\n",
              "ind                                                              \n",
              "0         MPSU                Moscow Pedagogical State University\n",
              "0         MPSU  Moscow Pedagogical State University, Moscow, R...\n",
              "0         MPSU                                               MPSU\n",
              "0         MPSU                       ИВ РАН, МПГУ, Москва, Россия\n",
              "0         MPSU  Московский государственный педагогический унив...\n",
              "...        ...                                                ...\n",
              "10000  Unknown                                          Хельсинки\n",
              "10000  Unknown                                              Чехия\n",
              "10000  Unknown                                     Днепропетровск\n",
              "10000  Unknown                                           Нью-Йорк\n",
              "10000  Unknown                                             МОСКВА\n",
              "\n",
              "[1556 rows x 2 columns]"
            ]
          },
          "metadata": {
            "tags": []
          },
          "execution_count": 5
        }
      ]
    },
    {
      "cell_type": "markdown",
      "metadata": {
        "id": "l1gLVGkKIUhO"
      },
      "source": [
        "#Classifier"
      ]
    },
    {
      "cell_type": "code",
      "metadata": {
        "id": "8Uo7LewjVgvp"
      },
      "source": [
        "vect = CountVectorizer(analyzer='char', ngram_range=(1,4))\r\n",
        "X = vect.fit_transform(aff['variation'])\r\n",
        "y = aff.index\r\n",
        "X_train, X_test, y_train, y_test = train_test_split(X, y, test_size=0.1, random_state=42)"
      ],
      "execution_count": null,
      "outputs": []
    },
    {
      "cell_type": "code",
      "metadata": {
        "colab": {
          "base_uri": "https://localhost:8080/"
        },
        "id": "-E4i15TZVonN",
        "outputId": "27d8cd54-1044-4cf8-960d-51e67e474698"
      },
      "source": [
        "reg_model = linear_model.LogisticRegression(max_iter=5000)\r\n",
        "reg_model.fit(X_train, y_train)"
      ],
      "execution_count": null,
      "outputs": [
        {
          "output_type": "execute_result",
          "data": {
            "text/plain": [
              "LogisticRegression(C=1.0, class_weight=None, dual=False, fit_intercept=True,\n",
              "                   intercept_scaling=1, l1_ratio=None, max_iter=5000,\n",
              "                   multi_class='auto', n_jobs=None, penalty='l2',\n",
              "                   random_state=None, solver='lbfgs', tol=0.0001, verbose=0,\n",
              "                   warm_start=False)"
            ]
          },
          "metadata": {
            "tags": []
          },
          "execution_count": 141
        }
      ]
    },
    {
      "cell_type": "code",
      "metadata": {
        "colab": {
          "base_uri": "https://localhost:8080/"
        },
        "id": "eHPKZ0scVrlA",
        "outputId": "cbfd1232-068d-4879-b5ce-1e6370b760b0"
      },
      "source": [
        "y_pred = reg_model.predict(X_test)\r\n",
        "print(classification_report(y_test, y_pred))"
      ],
      "execution_count": null,
      "outputs": [
        {
          "output_type": "stream",
          "text": [
            "              precision    recall  f1-score   support\n",
            "\n",
            "           0       0.00      0.00      0.00         0\n",
            "           2       0.00      0.00      0.00         0\n",
            "           4       1.00      1.00      1.00         1\n",
            "           7       0.83      0.83      0.83         6\n",
            "          10       1.00      1.00      1.00         3\n",
            "          11       1.00      1.00      1.00         1\n",
            "          13       0.00      0.00      0.00         0\n",
            "          15       0.00      0.00      0.00         0\n",
            "          16       1.00      1.00      1.00         1\n",
            "          21       0.00      0.00      0.00         2\n",
            "          23       0.50      1.00      0.67         1\n",
            "          25       1.00      1.00      1.00         1\n",
            "          34       1.00      1.00      1.00         1\n",
            "          38       1.00      1.00      1.00         1\n",
            "          39       1.00      1.00      1.00         3\n",
            "          43       0.00      0.00      0.00         2\n",
            "          44       1.00      1.00      1.00         1\n",
            "          48       0.50      1.00      0.67         1\n",
            "          63       1.00      1.00      1.00         4\n",
            "          66       1.00      1.00      1.00         1\n",
            "          71       1.00      0.50      0.67         2\n",
            "          74       0.00      0.00      0.00         2\n",
            "          94       0.00      0.00      0.00         0\n",
            "         101       0.00      0.00      0.00         0\n",
            "         103       1.00      1.00      1.00         1\n",
            "         111       0.50      1.00      0.67         1\n",
            "         113       1.00      1.00      1.00         1\n",
            "         114       0.00      0.00      0.00         0\n",
            "         126       0.80      1.00      0.89         4\n",
            "         132       0.00      0.00      0.00         1\n",
            "         136       0.50      1.00      0.67         1\n",
            "         137       1.00      1.00      1.00         2\n",
            "         139       1.00      1.00      1.00         1\n",
            "         147       0.00      0.00      0.00         0\n",
            "         153       1.00      1.00      1.00         1\n",
            "         159       0.00      0.00      0.00         2\n",
            "         161       1.00      1.00      1.00         2\n",
            "         168       0.00      0.00      0.00         1\n",
            "         172       0.00      0.00      0.00         0\n",
            "         174       0.00      0.00      0.00         0\n",
            "         181       0.50      1.00      0.67         1\n",
            "         183       1.00      1.00      1.00         1\n",
            "         184       1.00      1.00      1.00         1\n",
            "         185       1.00      1.00      1.00         1\n",
            "         189       0.67      0.80      0.73         5\n",
            "         192       0.40      1.00      0.57         2\n",
            "         194       1.00      0.88      0.93         8\n",
            "         195       1.00      1.00      1.00         2\n",
            "         205       1.00      1.00      1.00         1\n",
            "         216       0.87      1.00      0.93        20\n",
            "         228       0.70      0.78      0.74         9\n",
            "         236       1.00      1.00      1.00         1\n",
            "         243       1.00      1.00      1.00         1\n",
            "         248       0.80      0.80      0.80         5\n",
            "         249       0.00      0.00      0.00         1\n",
            "         251       0.80      1.00      0.89         4\n",
            "         270       1.00      1.00      1.00         1\n",
            "         271       1.00      0.50      0.67         2\n",
            "         275       0.00      0.00      0.00         1\n",
            "        1000       0.50      1.00      0.67         1\n",
            "        1002       1.00      1.00      1.00         1\n",
            "        1003       1.00      1.00      1.00         1\n",
            "        1011       0.00      0.00      0.00         1\n",
            "        1012       1.00      1.00      1.00         1\n",
            "        1013       0.00      0.00      0.00         0\n",
            "        1014       1.00      1.00      1.00         1\n",
            "        1016       0.00      0.00      0.00         1\n",
            "        1025       0.00      0.00      0.00         1\n",
            "        1035       0.00      0.00      0.00         1\n",
            "        1040       0.00      0.00      0.00         1\n",
            "        1088       1.00      0.50      0.67         2\n",
            "        1143       0.00      0.00      0.00         0\n",
            "        1211       1.00      1.00      1.00         1\n",
            "        1213       0.00      0.00      0.00         0\n",
            "        1214       0.00      0.00      0.00         1\n",
            "        1225       1.00      1.00      1.00         1\n",
            "        1231       0.00      0.00      0.00         1\n",
            "        1234       0.00      0.00      0.00         1\n",
            "        1327       1.00      1.00      1.00         1\n",
            "        1333       0.00      0.00      0.00         1\n",
            "        1440       0.00      0.00      0.00         0\n",
            "        1451       1.00      1.00      1.00         2\n",
            "        1453       0.00      0.00      0.00         0\n",
            "        1459       0.00      0.00      0.00         1\n",
            "        1549       0.00      0.00      0.00         0\n",
            "        1560       0.00      0.00      0.00         1\n",
            "        1650       0.00      0.00      0.00         1\n",
            "        1680       1.00      1.00      1.00         1\n",
            "        1826       0.00      0.00      0.00         1\n",
            "        1998       0.00      0.00      0.00         1\n",
            "        2005       1.00      1.00      1.00         1\n",
            "        2033       0.00      0.00      0.00         1\n",
            "        2193       0.00      0.00      0.00         1\n",
            "        2353       0.00      0.00      0.00         1\n",
            "        2354       0.00      0.00      0.00         1\n",
            "        2357       0.00      0.00      0.00         1\n",
            "        2365       0.00      0.00      0.00         1\n",
            "        2369       0.00      0.00      0.00         1\n",
            "        2382       0.00      0.00      0.00         1\n",
            "        2386       0.00      0.00      0.00         1\n",
            "        2536       0.00      0.00      0.00         0\n",
            "        2542       0.00      0.00      0.00         0\n",
            "       10000       0.00      0.00      0.00         0\n",
            "\n",
            "    accuracy                           0.72       156\n",
            "   macro avg       0.46      0.49      0.47       156\n",
            "weighted avg       0.68      0.72      0.69       156\n",
            "\n"
          ],
          "name": "stdout"
        },
        {
          "output_type": "stream",
          "text": [
            "/usr/local/lib/python3.7/dist-packages/sklearn/metrics/_classification.py:1272: UndefinedMetricWarning: Precision and F-score are ill-defined and being set to 0.0 in labels with no predicted samples. Use `zero_division` parameter to control this behavior.\n",
            "  _warn_prf(average, modifier, msg_start, len(result))\n",
            "/usr/local/lib/python3.7/dist-packages/sklearn/metrics/_classification.py:1272: UndefinedMetricWarning: Recall and F-score are ill-defined and being set to 0.0 in labels with no true samples. Use `zero_division` parameter to control this behavior.\n",
            "  _warn_prf(average, modifier, msg_start, len(result))\n"
          ],
          "name": "stderr"
        }
      ]
    },
    {
      "cell_type": "code",
      "metadata": {
        "id": "rjjWrsDPMUN_"
      },
      "source": [
        "values = aff.index.value_counts()"
      ],
      "execution_count": 9,
      "outputs": []
    },
    {
      "cell_type": "code",
      "metadata": {
        "colab": {
          "base_uri": "https://localhost:8080/"
        },
        "id": "4KKvW54hQGQq",
        "outputId": "8941d995-231a-49ab-8ee7-3d51eca37d59"
      },
      "source": [
        "len(values[values>2].index)"
      ],
      "execution_count": null,
      "outputs": [
        {
          "output_type": "execute_result",
          "data": {
            "text/plain": [
              "115"
            ]
          },
          "metadata": {
            "tags": []
          },
          "execution_count": 137
        }
      ]
    },
    {
      "cell_type": "code",
      "metadata": {
        "colab": {
          "base_uri": "https://localhost:8080/"
        },
        "id": "0tuOPR3AU-8I",
        "outputId": "ac5859a2-862b-41c8-8653-48e99b5e7adb"
      },
      "source": [
        "len(values)"
      ],
      "execution_count": null,
      "outputs": [
        {
          "output_type": "execute_result",
          "data": {
            "text/plain": [
              "385"
            ]
          },
          "metadata": {
            "tags": []
          },
          "execution_count": 138
        }
      ]
    },
    {
      "cell_type": "code",
      "metadata": {
        "id": "5Y0K8cadUVTg"
      },
      "source": [
        "aff2 = aff[aff.index.isin(values[values>2].index)] # только аффилиации, которые встретились больше 3 раз включительно"
      ],
      "execution_count": 10,
      "outputs": []
    },
    {
      "cell_type": "code",
      "metadata": {
        "id": "1zw-eaWXVP17"
      },
      "source": [
        "vect = CountVectorizer(analyzer='char', ngram_range=(1,4))\r\n",
        "X = vect.fit_transform(aff2['variation'])\r\n",
        "y = aff2.index\r\n",
        "X_train, X_test, y_train, y_test = train_test_split(X, y, test_size=0.1, random_state=42)"
      ],
      "execution_count": 11,
      "outputs": []
    },
    {
      "cell_type": "code",
      "metadata": {
        "id": "Mf5LJ-SPV5C3",
        "colab": {
          "base_uri": "https://localhost:8080/"
        },
        "outputId": "94d96b52-13a4-4059-94ee-543c6580dba7"
      },
      "source": [
        "reg_model = linear_model.LogisticRegression(max_iter=5000)\r\n",
        "reg_model.fit(X_train, y_train)"
      ],
      "execution_count": 12,
      "outputs": [
        {
          "output_type": "execute_result",
          "data": {
            "text/plain": [
              "LogisticRegression(C=1.0, class_weight=None, dual=False, fit_intercept=True,\n",
              "                   intercept_scaling=1, l1_ratio=None, max_iter=5000,\n",
              "                   multi_class='auto', n_jobs=None, penalty='l2',\n",
              "                   random_state=None, solver='lbfgs', tol=0.0001, verbose=0,\n",
              "                   warm_start=False)"
            ]
          },
          "metadata": {
            "tags": []
          },
          "execution_count": 12
        }
      ]
    },
    {
      "cell_type": "code",
      "metadata": {
        "id": "AVhIXLCWV6vq",
        "colab": {
          "base_uri": "https://localhost:8080/"
        },
        "outputId": "bce410ff-b733-4dbb-dd14-ea3dc0f88293"
      },
      "source": [
        "y_pred = reg_model.predict(X_test)\r\n",
        "print(classification_report(y_test, y_pred))"
      ],
      "execution_count": 18,
      "outputs": [
        {
          "output_type": "stream",
          "text": [
            "              precision    recall  f1-score   support\n",
            "\n",
            "           0       0.00      0.00      0.00         0\n",
            "           4       1.00      1.00      1.00         1\n",
            "           7       1.00      0.71      0.83         7\n",
            "          11       1.00      1.00      1.00         1\n",
            "          14       1.00      1.00      1.00         1\n",
            "          15       0.67      1.00      0.80         2\n",
            "          16       1.00      1.00      1.00         1\n",
            "          17       1.00      1.00      1.00         1\n",
            "          18       1.00      0.50      0.67         2\n",
            "          22       1.00      1.00      1.00         1\n",
            "          23       1.00      1.00      1.00         1\n",
            "          24       1.00      1.00      1.00         1\n",
            "          39       1.00      1.00      1.00         1\n",
            "          42       1.00      1.00      1.00         1\n",
            "          50       0.00      0.00      0.00         1\n",
            "          63       1.00      1.00      1.00         1\n",
            "          71       1.00      1.00      1.00         1\n",
            "          73       0.00      0.00      0.00         1\n",
            "          75       1.00      1.00      1.00         1\n",
            "          95       1.00      1.00      1.00         1\n",
            "         101       1.00      1.00      1.00         1\n",
            "         111       1.00      1.00      1.00         1\n",
            "         114       1.00      1.00      1.00         3\n",
            "         126       1.00      1.00      1.00         1\n",
            "         130       1.00      1.00      1.00         1\n",
            "         137       1.00      1.00      1.00         1\n",
            "         143       1.00      1.00      1.00         1\n",
            "         147       1.00      1.00      1.00         2\n",
            "         153       1.00      1.00      1.00         2\n",
            "         161       1.00      1.00      1.00         2\n",
            "         179       1.00      1.00      1.00         2\n",
            "         183       0.80      0.67      0.73         6\n",
            "         184       1.00      1.00      1.00         1\n",
            "         189       0.75      0.75      0.75         4\n",
            "         192       0.50      1.00      0.67         1\n",
            "         194       0.88      1.00      0.93         7\n",
            "         195       1.00      1.00      1.00         2\n",
            "         201       1.00      1.00      1.00         1\n",
            "         216       0.94      0.94      0.94        17\n",
            "         228       1.00      1.00      1.00         4\n",
            "         236       1.00      1.00      1.00         1\n",
            "         242       1.00      1.00      1.00         1\n",
            "         248       0.88      0.88      0.88         8\n",
            "         249       0.00      0.00      0.00         1\n",
            "         251       1.00      1.00      1.00         7\n",
            "         256       1.00      1.00      1.00         1\n",
            "         266       1.00      1.00      1.00         1\n",
            "        1004       0.00      0.00      0.00         1\n",
            "        1010       1.00      1.00      1.00         1\n",
            "        1013       0.00      0.00      0.00         1\n",
            "        1034       1.00      1.00      1.00         1\n",
            "        1088       0.00      0.00      0.00         1\n",
            "        1211       1.00      1.00      1.00         1\n",
            "        1234       1.00      1.00      1.00         1\n",
            "        1327       1.00      1.00      1.00         1\n",
            "        1340       0.00      0.00      0.00         0\n",
            "        1435       1.00      1.00      1.00         1\n",
            "        1451       1.00      1.00      1.00         1\n",
            "        1459       1.00      1.00      1.00         2\n",
            "        1463       1.00      1.00      1.00         1\n",
            "        1655       1.00      1.00      1.00         1\n",
            "        2005       0.00      0.00      0.00         0\n",
            "       10000       0.25      1.00      0.40         1\n",
            "\n",
            "    accuracy                           0.89       122\n",
            "   macro avg       0.82      0.83      0.82       122\n",
            "weighted avg       0.89      0.89      0.88       122\n",
            "\n"
          ],
          "name": "stdout"
        },
        {
          "output_type": "stream",
          "text": [
            "/usr/local/lib/python3.7/dist-packages/sklearn/metrics/_classification.py:1272: UndefinedMetricWarning: Precision and F-score are ill-defined and being set to 0.0 in labels with no predicted samples. Use `zero_division` parameter to control this behavior.\n",
            "  _warn_prf(average, modifier, msg_start, len(result))\n",
            "/usr/local/lib/python3.7/dist-packages/sklearn/metrics/_classification.py:1272: UndefinedMetricWarning: Recall and F-score are ill-defined and being set to 0.0 in labels with no true samples. Use `zero_division` parameter to control this behavior.\n",
            "  _warn_prf(average, modifier, msg_start, len(result))\n"
          ],
          "name": "stderr"
        }
      ]
    },
    {
      "cell_type": "markdown",
      "metadata": {
        "id": "xflxzjXiQrqA"
      },
      "source": [
        "# NN"
      ]
    },
    {
      "cell_type": "code",
      "metadata": {
        "colab": {
          "base_uri": "https://localhost:8080/"
        },
        "id": "y4rPwTltR0tM",
        "outputId": "1470fafe-5d06-4ca6-98b1-29f6c91f4f0e"
      },
      "source": [
        "!pip install pandas scikit-learn matplotlib"
      ],
      "execution_count": 6,
      "outputs": [
        {
          "output_type": "stream",
          "text": [
            "Requirement already satisfied: pandas in /usr/local/lib/python3.7/dist-packages (1.1.5)\n",
            "Requirement already satisfied: scikit-learn in /usr/local/lib/python3.7/dist-packages (0.22.2.post1)\n",
            "Requirement already satisfied: matplotlib in /usr/local/lib/python3.7/dist-packages (3.2.2)\n",
            "Requirement already satisfied: pytz>=2017.2 in /usr/local/lib/python3.7/dist-packages (from pandas) (2018.9)\n",
            "Requirement already satisfied: python-dateutil>=2.7.3 in /usr/local/lib/python3.7/dist-packages (from pandas) (2.8.1)\n",
            "Requirement already satisfied: numpy>=1.15.4 in /usr/local/lib/python3.7/dist-packages (from pandas) (1.19.5)\n",
            "Requirement already satisfied: scipy>=0.17.0 in /usr/local/lib/python3.7/dist-packages (from scikit-learn) (1.4.1)\n",
            "Requirement already satisfied: joblib>=0.11 in /usr/local/lib/python3.7/dist-packages (from scikit-learn) (1.0.1)\n",
            "Requirement already satisfied: cycler>=0.10 in /usr/local/lib/python3.7/dist-packages (from matplotlib) (0.10.0)\n",
            "Requirement already satisfied: kiwisolver>=1.0.1 in /usr/local/lib/python3.7/dist-packages (from matplotlib) (1.3.1)\n",
            "Requirement already satisfied: pyparsing!=2.0.4,!=2.1.2,!=2.1.6,>=2.0.1 in /usr/local/lib/python3.7/dist-packages (from matplotlib) (2.4.7)\n",
            "Requirement already satisfied: six>=1.5 in /usr/local/lib/python3.7/dist-packages (from python-dateutil>=2.7.3->pandas) (1.15.0)\n"
          ],
          "name": "stdout"
        }
      ]
    },
    {
      "cell_type": "code",
      "metadata": {
        "id": "Ma1O5TN3Rc3-"
      },
      "source": [
        "from sklearn.metrics import accuracy_score\r\n",
        "from collections import Counter\r\n",
        "import tensorflow as tf\r\n",
        "from tensorflow.keras import backend as K\r\n",
        "import matplotlib.pyplot as plt\r\n",
        "from keras.optimizers import SGD\r\n",
        "from keras.layers import Dense\r\n",
        "from keras.models import Sequential\r\n",
        "%matplotlib inline"
      ],
      "execution_count": 7,
      "outputs": []
    },
    {
      "cell_type": "code",
      "metadata": {
        "id": "SCJnViIKR45t"
      },
      "source": [
        "vocab = Counter()\r\n",
        "\r\n",
        "for af in aff.variation:\r\n",
        "    vocab.update(af)"
      ],
      "execution_count": 8,
      "outputs": []
    },
    {
      "cell_type": "code",
      "metadata": {
        "id": "luR0VpRuSZvl"
      },
      "source": [
        "char2id = {'UNK':1, 'PAD':0}\r\n",
        "\r\n",
        "for char in vocab:\r\n",
        "    char2id[char] = len(char2id)"
      ],
      "execution_count": 9,
      "outputs": []
    },
    {
      "cell_type": "code",
      "metadata": {
        "id": "gLoRpp2fScNM"
      },
      "source": [
        "id2char = {i:char for char, i in char2id.items()}"
      ],
      "execution_count": 10,
      "outputs": []
    },
    {
      "cell_type": "code",
      "metadata": {
        "id": "MX7ZI9oLSiLQ"
      },
      "source": [
        "X = []\r\n",
        "\r\n",
        "for word in aff.variation:\r\n",
        "    ids = np.array([char2id.get(token, 1) for token in word])\r\n",
        "    X.append(ids)"
      ],
      "execution_count": 70,
      "outputs": []
    },
    {
      "cell_type": "code",
      "metadata": {
        "id": "18Ujs7ben5tY"
      },
      "source": [
        "X = tf.keras.preprocessing.sequence.pad_sequences(X, maxlen=MAX_LEN)"
      ],
      "execution_count": 76,
      "outputs": []
    },
    {
      "cell_type": "code",
      "metadata": {
        "colab": {
          "base_uri": "https://localhost:8080/",
          "height": 455
        },
        "id": "0aHJLAmQkBfc",
        "outputId": "387f7d3d-c247-4274-9901-74842daa4632"
      },
      "source": [
        "new_ind = dict()\r\n",
        "i = 0\r\n",
        "for index in aff.index:\r\n",
        "  if index not in new_ind.keys():\r\n",
        "    new_ind[index] = i\r\n",
        "    i += 1\r\n",
        "\r\n",
        "old_ind = dict()\r\n",
        "for key, value in new_ind.items():\r\n",
        "  old_ind[value]=key\r\n",
        "\r\n",
        "aff['new_ind'] = aff.index\r\n",
        "aff['new_ind'] = aff.new_ind.map(new_ind)\r\n",
        "aff"
      ],
      "execution_count": 80,
      "outputs": [
        {
          "output_type": "execute_result",
          "data": {
            "text/html": [
              "<div>\n",
              "<style scoped>\n",
              "    .dataframe tbody tr th:only-of-type {\n",
              "        vertical-align: middle;\n",
              "    }\n",
              "\n",
              "    .dataframe tbody tr th {\n",
              "        vertical-align: top;\n",
              "    }\n",
              "\n",
              "    .dataframe thead th {\n",
              "        text-align: right;\n",
              "    }\n",
              "</style>\n",
              "<table border=\"1\" class=\"dataframe\">\n",
              "  <thead>\n",
              "    <tr style=\"text-align: right;\">\n",
              "      <th></th>\n",
              "      <th>aff</th>\n",
              "      <th>variation</th>\n",
              "      <th>new_ind</th>\n",
              "    </tr>\n",
              "    <tr>\n",
              "      <th>ind</th>\n",
              "      <th></th>\n",
              "      <th></th>\n",
              "      <th></th>\n",
              "    </tr>\n",
              "  </thead>\n",
              "  <tbody>\n",
              "    <tr>\n",
              "      <th>0</th>\n",
              "      <td>MPSU</td>\n",
              "      <td>Moscow Pedagogical State University</td>\n",
              "      <td>0</td>\n",
              "    </tr>\n",
              "    <tr>\n",
              "      <th>0</th>\n",
              "      <td>MPSU</td>\n",
              "      <td>Moscow Pedagogical State University, Moscow, R...</td>\n",
              "      <td>0</td>\n",
              "    </tr>\n",
              "    <tr>\n",
              "      <th>0</th>\n",
              "      <td>MPSU</td>\n",
              "      <td>MPSU</td>\n",
              "      <td>0</td>\n",
              "    </tr>\n",
              "    <tr>\n",
              "      <th>0</th>\n",
              "      <td>MPSU</td>\n",
              "      <td>ИВ РАН, МПГУ, Москва, Россия</td>\n",
              "      <td>0</td>\n",
              "    </tr>\n",
              "    <tr>\n",
              "      <th>0</th>\n",
              "      <td>MPSU</td>\n",
              "      <td>Московский государственный педагогический унив...</td>\n",
              "      <td>0</td>\n",
              "    </tr>\n",
              "    <tr>\n",
              "      <th>...</th>\n",
              "      <td>...</td>\n",
              "      <td>...</td>\n",
              "      <td>...</td>\n",
              "    </tr>\n",
              "    <tr>\n",
              "      <th>10000</th>\n",
              "      <td>Unknown</td>\n",
              "      <td>Хельсинки</td>\n",
              "      <td>384</td>\n",
              "    </tr>\n",
              "    <tr>\n",
              "      <th>10000</th>\n",
              "      <td>Unknown</td>\n",
              "      <td>Чехия</td>\n",
              "      <td>384</td>\n",
              "    </tr>\n",
              "    <tr>\n",
              "      <th>10000</th>\n",
              "      <td>Unknown</td>\n",
              "      <td>Днепропетровск</td>\n",
              "      <td>384</td>\n",
              "    </tr>\n",
              "    <tr>\n",
              "      <th>10000</th>\n",
              "      <td>Unknown</td>\n",
              "      <td>Нью-Йорк</td>\n",
              "      <td>384</td>\n",
              "    </tr>\n",
              "    <tr>\n",
              "      <th>10000</th>\n",
              "      <td>Unknown</td>\n",
              "      <td>МОСКВА</td>\n",
              "      <td>384</td>\n",
              "    </tr>\n",
              "  </tbody>\n",
              "</table>\n",
              "<p>1556 rows × 3 columns</p>\n",
              "</div>"
            ],
            "text/plain": [
              "           aff                                          variation  new_ind\n",
              "ind                                                                       \n",
              "0         MPSU                Moscow Pedagogical State University        0\n",
              "0         MPSU  Moscow Pedagogical State University, Moscow, R...        0\n",
              "0         MPSU                                               MPSU        0\n",
              "0         MPSU                       ИВ РАН, МПГУ, Москва, Россия        0\n",
              "0         MPSU  Московский государственный педагогический унив...        0\n",
              "...        ...                                                ...      ...\n",
              "10000  Unknown                                          Хельсинки      384\n",
              "10000  Unknown                                              Чехия      384\n",
              "10000  Unknown                                     Днепропетровск      384\n",
              "10000  Unknown                                           Нью-Йорк      384\n",
              "10000  Unknown                                             МОСКВА      384\n",
              "\n",
              "[1556 rows x 3 columns]"
            ]
          },
          "metadata": {
            "tags": []
          },
          "execution_count": 80
        }
      ]
    },
    {
      "cell_type": "code",
      "metadata": {
        "colab": {
          "base_uri": "https://localhost:8080/"
        },
        "id": "wxGSMER2THJI",
        "outputId": "5a04f8c5-f60a-443d-9658-61f8fc3b0e71"
      },
      "source": [
        "MAX_LEN = max(len(x) for x in X)\r\n",
        "MAX_LEN"
      ],
      "execution_count": 21,
      "outputs": [
        {
          "output_type": "execute_result",
          "data": {
            "text/plain": [
              "232"
            ]
          },
          "metadata": {
            "tags": []
          },
          "execution_count": 21
        }
      ]
    },
    {
      "cell_type": "code",
      "metadata": {
        "colab": {
          "base_uri": "https://localhost:8080/"
        },
        "id": "IAwDaUcmW8V-",
        "outputId": "2539e649-416c-4e5d-b6c7-54fd03097991"
      },
      "source": [
        "len(char2id)"
      ],
      "execution_count": 22,
      "outputs": [
        {
          "output_type": "execute_result",
          "data": {
            "text/plain": [
              "169"
            ]
          },
          "metadata": {
            "tags": []
          },
          "execution_count": 22
        }
      ]
    },
    {
      "cell_type": "code",
      "metadata": {
        "id": "s5keKZdUfeci"
      },
      "source": [
        "y = tf.keras.utils.to_categorical(aff.new_ind)"
      ],
      "execution_count": 81,
      "outputs": []
    },
    {
      "cell_type": "code",
      "metadata": {
        "colab": {
          "base_uri": "https://localhost:8080/"
        },
        "id": "5V_FbDBBn7YR",
        "outputId": "3fc1dc57-867d-45ff-c0e7-c602efe9881b"
      },
      "source": [
        "X.shape, y.shape"
      ],
      "execution_count": 83,
      "outputs": [
        {
          "output_type": "execute_result",
          "data": {
            "text/plain": [
              "((1556, 232), (1556, 385))"
            ]
          },
          "metadata": {
            "tags": []
          },
          "execution_count": 83
        }
      ]
    },
    {
      "cell_type": "code",
      "metadata": {
        "id": "uoAIO5rXTbHQ"
      },
      "source": [
        "model = tf.keras.Sequential()\r\n",
        "model.add(tf.keras.layers.Embedding(input_dim=len(char2id), \r\n",
        "                                    input_length=MAX_LEN, output_dim=100))\r\n",
        "model.add(tf.keras.layers.Conv1D(kernel_size=8, filters=4, strides=1))\r\n",
        "model.add(tf.keras.layers.Flatten())\r\n",
        "model.add(tf.keras.layers.Dense(600, activation=\"relu\"))\r\n",
        "model.add(tf.keras.layers.Dense(385, activation='softmax'))\r\n",
        "opt = SGD(lr=0.01, momentum=0.9)\r\n",
        "model.compile(loss='categorical_crossentropy', optimizer=opt, metrics=['accuracy'])"
      ],
      "execution_count": 98,
      "outputs": []
    },
    {
      "cell_type": "code",
      "metadata": {
        "colab": {
          "base_uri": "https://localhost:8080/"
        },
        "id": "CjNCTSDYZ1_q",
        "outputId": "786787f2-87fb-4e8e-913c-828288007c1b"
      },
      "source": [
        "model.summary()"
      ],
      "execution_count": 89,
      "outputs": [
        {
          "output_type": "stream",
          "text": [
            "Model: \"sequential_5\"\n",
            "_________________________________________________________________\n",
            "Layer (type)                 Output Shape              Param #   \n",
            "=================================================================\n",
            "embedding_5 (Embedding)      (None, 232, 100)          16900     \n",
            "_________________________________________________________________\n",
            "conv1d_5 (Conv1D)            (None, 225, 4)            3204      \n",
            "_________________________________________________________________\n",
            "flatten_5 (Flatten)          (None, 900)               0         \n",
            "_________________________________________________________________\n",
            "dense_10 (Dense)             (None, 600)               540600    \n",
            "_________________________________________________________________\n",
            "dense_11 (Dense)             (None, 385)               231385    \n",
            "=================================================================\n",
            "Total params: 792,089\n",
            "Trainable params: 792,089\n",
            "Non-trainable params: 0\n",
            "_________________________________________________________________\n"
          ],
          "name": "stdout"
        }
      ]
    },
    {
      "cell_type": "code",
      "metadata": {
        "colab": {
          "base_uri": "https://localhost:8080/"
        },
        "id": "Zff94W-CWHj6",
        "outputId": "295b6ca6-3463-4221-dd7d-c002bfb7c824"
      },
      "source": [
        "model.fit(X, y, \r\n",
        "          validation_split=0.25,\r\n",
        "          batch_size=128,\r\n",
        "          epochs=25)"
      ],
      "execution_count": 99,
      "outputs": [
        {
          "output_type": "stream",
          "text": [
            "Epoch 1/25\n",
            "10/10 [==============================] - 2s 156ms/step - loss: 5.9122 - accuracy: 0.0113 - val_loss: 6.0585 - val_accuracy: 0.0000e+00\n",
            "Epoch 2/25\n",
            "10/10 [==============================] - 1s 136ms/step - loss: 5.1228 - accuracy: 0.1437 - val_loss: 6.7074 - val_accuracy: 0.0000e+00\n",
            "Epoch 3/25\n",
            "10/10 [==============================] - 1s 132ms/step - loss: 4.5265 - accuracy: 0.0905 - val_loss: 7.4414 - val_accuracy: 0.0000e+00\n",
            "Epoch 4/25\n",
            "10/10 [==============================] - 1s 132ms/step - loss: 4.2882 - accuracy: 0.0967 - val_loss: 7.9148 - val_accuracy: 0.0000e+00\n",
            "Epoch 5/25\n",
            "10/10 [==============================] - 1s 132ms/step - loss: 4.2631 - accuracy: 0.1328 - val_loss: 8.3147 - val_accuracy: 0.0000e+00\n",
            "Epoch 6/25\n",
            "10/10 [==============================] - 1s 133ms/step - loss: 4.1532 - accuracy: 0.1301 - val_loss: 8.1219 - val_accuracy: 0.0000e+00\n",
            "Epoch 7/25\n",
            "10/10 [==============================] - 1s 136ms/step - loss: 4.0779 - accuracy: 0.1500 - val_loss: 8.9360 - val_accuracy: 0.0000e+00\n",
            "Epoch 8/25\n",
            "10/10 [==============================] - 1s 130ms/step - loss: 4.0500 - accuracy: 0.1406 - val_loss: 8.8680 - val_accuracy: 0.0000e+00\n",
            "Epoch 9/25\n",
            "10/10 [==============================] - 1s 133ms/step - loss: 4.0554 - accuracy: 0.1468 - val_loss: 8.8642 - val_accuracy: 0.0000e+00\n",
            "Epoch 10/25\n",
            "10/10 [==============================] - 1s 132ms/step - loss: 4.1091 - accuracy: 0.0929 - val_loss: 8.8688 - val_accuracy: 0.0000e+00\n",
            "Epoch 11/25\n",
            "10/10 [==============================] - 1s 135ms/step - loss: 4.0136 - accuracy: 0.0971 - val_loss: 8.3575 - val_accuracy: 0.0000e+00\n",
            "Epoch 12/25\n",
            "10/10 [==============================] - 1s 132ms/step - loss: 3.9947 - accuracy: 0.1362 - val_loss: 9.4850 - val_accuracy: 0.0000e+00\n",
            "Epoch 13/25\n",
            "10/10 [==============================] - 1s 132ms/step - loss: 3.8961 - accuracy: 0.1511 - val_loss: 9.5111 - val_accuracy: 0.0000e+00\n",
            "Epoch 14/25\n",
            "10/10 [==============================] - 1s 131ms/step - loss: 3.8986 - accuracy: 0.1609 - val_loss: 9.7932 - val_accuracy: 0.0000e+00\n",
            "Epoch 15/25\n",
            "10/10 [==============================] - 1s 131ms/step - loss: 3.8801 - accuracy: 0.1486 - val_loss: 9.6303 - val_accuracy: 0.0000e+00\n",
            "Epoch 16/25\n",
            "10/10 [==============================] - 1s 135ms/step - loss: 3.8369 - accuracy: 0.1337 - val_loss: 9.4461 - val_accuracy: 0.0000e+00\n",
            "Epoch 17/25\n",
            "10/10 [==============================] - 1s 131ms/step - loss: 3.7628 - accuracy: 0.1556 - val_loss: 9.1216 - val_accuracy: 0.0000e+00\n",
            "Epoch 18/25\n",
            "10/10 [==============================] - 1s 134ms/step - loss: 3.7783 - accuracy: 0.1571 - val_loss: 9.4761 - val_accuracy: 0.0000e+00\n",
            "Epoch 19/25\n",
            "10/10 [==============================] - 1s 133ms/step - loss: 3.7268 - accuracy: 0.1672 - val_loss: 10.0244 - val_accuracy: 0.0000e+00\n",
            "Epoch 20/25\n",
            "10/10 [==============================] - 1s 131ms/step - loss: 3.6739 - accuracy: 0.1630 - val_loss: 9.6464 - val_accuracy: 0.0000e+00\n",
            "Epoch 21/25\n",
            "10/10 [==============================] - 1s 133ms/step - loss: 3.5526 - accuracy: 0.1868 - val_loss: 8.6797 - val_accuracy: 0.0000e+00\n",
            "Epoch 22/25\n",
            "10/10 [==============================] - 1s 133ms/step - loss: 3.6402 - accuracy: 0.1586 - val_loss: 9.6829 - val_accuracy: 0.0000e+00\n",
            "Epoch 23/25\n",
            "10/10 [==============================] - 1s 137ms/step - loss: 3.6119 - accuracy: 0.1679 - val_loss: 9.5858 - val_accuracy: 0.0000e+00\n",
            "Epoch 24/25\n",
            "10/10 [==============================] - 1s 131ms/step - loss: 3.5185 - accuracy: 0.1934 - val_loss: 9.6167 - val_accuracy: 0.0000e+00\n",
            "Epoch 25/25\n",
            "10/10 [==============================] - 1s 133ms/step - loss: 3.4726 - accuracy: 0.1894 - val_loss: 9.7146 - val_accuracy: 0.0000e+00\n"
          ],
          "name": "stdout"
        },
        {
          "output_type": "execute_result",
          "data": {
            "text/plain": [
              "<tensorflow.python.keras.callbacks.History at 0x7f955326dad0>"
            ]
          },
          "metadata": {
            "tags": []
          },
          "execution_count": 99
        }
      ]
    },
    {
      "cell_type": "code",
      "metadata": {
        "id": "VsuuL7uvRuL0"
      },
      "source": [
        ""
      ],
      "execution_count": null,
      "outputs": []
    }
  ]
}