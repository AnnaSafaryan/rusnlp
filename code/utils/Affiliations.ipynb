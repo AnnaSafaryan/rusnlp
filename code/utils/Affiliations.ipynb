{
  "nbformat": 4,
  "nbformat_minor": 0,
  "metadata": {
    "colab": {
      "name": "Affiliations.ipynb",
      "provenance": [],
      "collapsed_sections": []
    },
    "kernelspec": {
      "name": "python3",
      "display_name": "Python 3"
    }
  },
  "cells": [
    {
      "cell_type": "markdown",
      "metadata": {
        "id": "ruC9_Z86HOJF"
      },
      "source": [
        "#import"
      ]
    },
    {
      "cell_type": "code",
      "metadata": {
        "id": "L6cPAlfAGh5l"
      },
      "source": [
        "import pandas as pd\r\n",
        "import re\r\n",
        "import numpy as np\r\n",
        "from sklearn.metrics import f1_score\r\n",
        "from string import punctuation\r\n",
        "from sklearn.feature_extraction.text import TfidfVectorizer, CountVectorizer\r\n",
        "from sklearn.model_selection import train_test_split\r\n",
        "from sklearn.metrics import classification_report\r\n",
        "from sklearn import linear_model\r\n",
        "from sklearn.model_selection import cross_val_score\r\n",
        "from  sklearn.model_selection import cross_validate\r\n",
        "from sklearn.metrics import accuracy_score\r\n",
        "from collections import Counter\r\n",
        "import tensorflow as tf\r\n",
        "from tensorflow.keras import backend as K\r\n",
        "import matplotlib.pyplot as plt\r\n",
        "from keras.optimizers import SGD\r\n",
        "from keras.layers import Dense\r\n",
        "from keras.models import Sequential\r\n",
        "%matplotlib inline"
      ],
      "execution_count": 1,
      "outputs": []
    },
    {
      "cell_type": "markdown",
      "metadata": {
        "id": "uhIMMXIJHTjz"
      },
      "source": [
        "#Google drive"
      ]
    },
    {
      "cell_type": "code",
      "metadata": {
        "colab": {
          "base_uri": "https://localhost:8080/"
        },
        "id": "Jzd7XeQZHF2a",
        "outputId": "ae9c6895-ea43-467c-a367-bbce30341925"
      },
      "source": [
        "from google.colab import drive \r\n",
        "drive.mount('/gdrive')"
      ],
      "execution_count": 2,
      "outputs": [
        {
          "output_type": "stream",
          "text": [
            "Mounted at /gdrive\n"
          ],
          "name": "stdout"
        }
      ]
    },
    {
      "cell_type": "markdown",
      "metadata": {
        "id": "fh5EsXd_Hadg"
      },
      "source": [
        "#Data"
      ]
    },
    {
      "cell_type": "code",
      "metadata": {
        "id": "ZDhf97XAJIIf"
      },
      "source": [
        "names = ['aff', 'variation']"
      ],
      "execution_count": 3,
      "outputs": []
    },
    {
      "cell_type": "code",
      "metadata": {
        "id": "tLbuexA0Hb2k"
      },
      "source": [
        "aff = pd.read_csv('/gdrive/My Drive/current_affiliations.tsv', sep='\\t', index_col=0, names=names)"
      ],
      "execution_count": 4,
      "outputs": []
    },
    {
      "cell_type": "code",
      "metadata": {
        "id": "mBz8jyIlRpK1",
        "colab": {
          "base_uri": "https://localhost:8080/",
          "height": 424
        },
        "outputId": "c15f350c-3443-47c0-800b-ccc6e4fc5f90"
      },
      "source": [
        "aff"
      ],
      "execution_count": 5,
      "outputs": [
        {
          "output_type": "execute_result",
          "data": {
            "text/html": [
              "<div>\n",
              "<style scoped>\n",
              "    .dataframe tbody tr th:only-of-type {\n",
              "        vertical-align: middle;\n",
              "    }\n",
              "\n",
              "    .dataframe tbody tr th {\n",
              "        vertical-align: top;\n",
              "    }\n",
              "\n",
              "    .dataframe thead th {\n",
              "        text-align: right;\n",
              "    }\n",
              "</style>\n",
              "<table border=\"1\" class=\"dataframe\">\n",
              "  <thead>\n",
              "    <tr style=\"text-align: right;\">\n",
              "      <th></th>\n",
              "      <th>aff</th>\n",
              "      <th>variation</th>\n",
              "    </tr>\n",
              "  </thead>\n",
              "  <tbody>\n",
              "    <tr>\n",
              "      <th>0</th>\n",
              "      <td>MPSU</td>\n",
              "      <td>Moscow Pedagogical State University</td>\n",
              "    </tr>\n",
              "    <tr>\n",
              "      <th>0</th>\n",
              "      <td>MPSU</td>\n",
              "      <td>Moscow Pedagogical State University, Moscow, R...</td>\n",
              "    </tr>\n",
              "    <tr>\n",
              "      <th>0</th>\n",
              "      <td>MPSU</td>\n",
              "      <td>MPSU</td>\n",
              "    </tr>\n",
              "    <tr>\n",
              "      <th>0</th>\n",
              "      <td>MPSU</td>\n",
              "      <td>ИВ РАН, МПГУ, Москва, Россия</td>\n",
              "    </tr>\n",
              "    <tr>\n",
              "      <th>0</th>\n",
              "      <td>MPSU</td>\n",
              "      <td>Московский государственный педагогический унив...</td>\n",
              "    </tr>\n",
              "    <tr>\n",
              "      <th>...</th>\n",
              "      <td>...</td>\n",
              "      <td>...</td>\n",
              "    </tr>\n",
              "    <tr>\n",
              "      <th>10000</th>\n",
              "      <td>Unknown</td>\n",
              "      <td>Хельсинки</td>\n",
              "    </tr>\n",
              "    <tr>\n",
              "      <th>10000</th>\n",
              "      <td>Unknown</td>\n",
              "      <td>Чехия</td>\n",
              "    </tr>\n",
              "    <tr>\n",
              "      <th>10000</th>\n",
              "      <td>Unknown</td>\n",
              "      <td>Днепропетровск</td>\n",
              "    </tr>\n",
              "    <tr>\n",
              "      <th>10000</th>\n",
              "      <td>Unknown</td>\n",
              "      <td>Нью-Йорк</td>\n",
              "    </tr>\n",
              "    <tr>\n",
              "      <th>10000</th>\n",
              "      <td>Unknown</td>\n",
              "      <td>МОСКВА</td>\n",
              "    </tr>\n",
              "  </tbody>\n",
              "</table>\n",
              "<p>1556 rows × 2 columns</p>\n",
              "</div>"
            ],
            "text/plain": [
              "           aff                                          variation\n",
              "0         MPSU                Moscow Pedagogical State University\n",
              "0         MPSU  Moscow Pedagogical State University, Moscow, R...\n",
              "0         MPSU                                               MPSU\n",
              "0         MPSU                       ИВ РАН, МПГУ, Москва, Россия\n",
              "0         MPSU  Московский государственный педагогический унив...\n",
              "...        ...                                                ...\n",
              "10000  Unknown                                          Хельсинки\n",
              "10000  Unknown                                              Чехия\n",
              "10000  Unknown                                     Днепропетровск\n",
              "10000  Unknown                                           Нью-Йорк\n",
              "10000  Unknown                                             МОСКВА\n",
              "\n",
              "[1556 rows x 2 columns]"
            ]
          },
          "metadata": {
            "tags": []
          },
          "execution_count": 5
        }
      ]
    },
    {
      "cell_type": "code",
      "metadata": {
        "id": "PSEcmmPEE0FB"
      },
      "source": [
        "values = aff.aff.value_counts()"
      ],
      "execution_count": 6,
      "outputs": []
    },
    {
      "cell_type": "code",
      "metadata": {
        "id": "trV5Csk_CS76"
      },
      "source": [
        "rare_aff = aff[aff.aff.isin(values[values<=2].index)]  #  2 и менее вариаций у аффилиаций в датафрейме\r\n",
        "double_rare_aff = pd.concat([rare_aff, rare_aff]) # удваиваем датафрейм, чтобы конкатенировать к основному датасету\r\n",
        "aff = pd.concat([aff, double_rare_aff]) # теперь единичных вариаций минимум 3, а тех, где было только 2 вариации, стало 6"
      ],
      "execution_count": 7,
      "outputs": []
    },
    {
      "cell_type": "code",
      "metadata": {
        "id": "LKNE99_UJaP0"
      },
      "source": [
        "aff = pd.concat([aff, aff]) # также увеличим в 2 раза весь датасет, чтобы можно было сплитить в нужном соотношении и при этом были представлены все классы"
      ],
      "execution_count": 8,
      "outputs": []
    },
    {
      "cell_type": "code",
      "metadata": {
        "colab": {
          "base_uri": "https://localhost:8080/",
          "height": 424
        },
        "id": "aGxdxfkrwzZR",
        "outputId": "c0b8e28d-ff21-47f7-a87d-5efaca000292"
      },
      "source": [
        "new_ind = dict() # \r\n",
        "i = 0\r\n",
        "for index in aff.index:\r\n",
        "  if index not in new_ind.keys():\r\n",
        "    new_ind[index] = i\r\n",
        "    i += 1\r\n",
        "\r\n",
        "old_ind = dict()\r\n",
        "for key, value in new_ind.items():\r\n",
        "  old_ind[value]=key\r\n",
        "\r\n",
        "aff['new_ind'] = aff.index\r\n",
        "aff['new_ind'] = aff.new_ind.map(new_ind)\r\n",
        "aff"
      ],
      "execution_count": 9,
      "outputs": [
        {
          "output_type": "execute_result",
          "data": {
            "text/html": [
              "<div>\n",
              "<style scoped>\n",
              "    .dataframe tbody tr th:only-of-type {\n",
              "        vertical-align: middle;\n",
              "    }\n",
              "\n",
              "    .dataframe tbody tr th {\n",
              "        vertical-align: top;\n",
              "    }\n",
              "\n",
              "    .dataframe thead th {\n",
              "        text-align: right;\n",
              "    }\n",
              "</style>\n",
              "<table border=\"1\" class=\"dataframe\">\n",
              "  <thead>\n",
              "    <tr style=\"text-align: right;\">\n",
              "      <th></th>\n",
              "      <th>aff</th>\n",
              "      <th>variation</th>\n",
              "      <th>new_ind</th>\n",
              "    </tr>\n",
              "  </thead>\n",
              "  <tbody>\n",
              "    <tr>\n",
              "      <th>0</th>\n",
              "      <td>MPSU</td>\n",
              "      <td>Moscow Pedagogical State University</td>\n",
              "      <td>0</td>\n",
              "    </tr>\n",
              "    <tr>\n",
              "      <th>0</th>\n",
              "      <td>MPSU</td>\n",
              "      <td>Moscow Pedagogical State University, Moscow, R...</td>\n",
              "      <td>0</td>\n",
              "    </tr>\n",
              "    <tr>\n",
              "      <th>0</th>\n",
              "      <td>MPSU</td>\n",
              "      <td>MPSU</td>\n",
              "      <td>0</td>\n",
              "    </tr>\n",
              "    <tr>\n",
              "      <th>0</th>\n",
              "      <td>MPSU</td>\n",
              "      <td>ИВ РАН, МПГУ, Москва, Россия</td>\n",
              "      <td>0</td>\n",
              "    </tr>\n",
              "    <tr>\n",
              "      <th>0</th>\n",
              "      <td>MPSU</td>\n",
              "      <td>Московский государственный педагогический унив...</td>\n",
              "      <td>0</td>\n",
              "    </tr>\n",
              "    <tr>\n",
              "      <th>...</th>\n",
              "      <td>...</td>\n",
              "      <td>...</td>\n",
              "      <td>...</td>\n",
              "    </tr>\n",
              "    <tr>\n",
              "      <th>2543</th>\n",
              "      <td>Murom Institute of Vladimir State University, ...</td>\n",
              "      <td>Муромский институт (филиал</td>\n",
              "      <td>379</td>\n",
              "    </tr>\n",
              "    <tr>\n",
              "      <th>2543</th>\n",
              "      <td>Murom Institute of Vladimir State University, ...</td>\n",
              "      <td>Муромский институт</td>\n",
              "      <td>379</td>\n",
              "    </tr>\n",
              "    <tr>\n",
              "      <th>2544</th>\n",
              "      <td>JINR Laboratory of High Energy Physics, Dubana...</td>\n",
              "      <td>Институт физики высоких энергий</td>\n",
              "      <td>380</td>\n",
              "    </tr>\n",
              "    <tr>\n",
              "      <th>2545</th>\n",
              "      <td>Center of applied communication, Moscow, Russia</td>\n",
              "      <td>Центр прикладных коммуникаций</td>\n",
              "      <td>381</td>\n",
              "    </tr>\n",
              "    <tr>\n",
              "      <th>2555</th>\n",
              "      <td>Academia Sinica, China</td>\n",
              "      <td>Академия Синика, Институт Информатики</td>\n",
              "      <td>382</td>\n",
              "    </tr>\n",
              "  </tbody>\n",
              "</table>\n",
              "<p>4456 rows × 3 columns</p>\n",
              "</div>"
            ],
            "text/plain": [
              "                                                    aff  ... new_ind\n",
              "0                                                  MPSU  ...       0\n",
              "0                                                  MPSU  ...       0\n",
              "0                                                  MPSU  ...       0\n",
              "0                                                  MPSU  ...       0\n",
              "0                                                  MPSU  ...       0\n",
              "...                                                 ...  ...     ...\n",
              "2543  Murom Institute of Vladimir State University, ...  ...     379\n",
              "2543  Murom Institute of Vladimir State University, ...  ...     379\n",
              "2544  JINR Laboratory of High Energy Physics, Dubana...  ...     380\n",
              "2545    Center of applied communication, Moscow, Russia  ...     381\n",
              "2555                             Academia Sinica, China  ...     382\n",
              "\n",
              "[4456 rows x 3 columns]"
            ]
          },
          "metadata": {
            "tags": []
          },
          "execution_count": 9
        }
      ]
    },
    {
      "cell_type": "code",
      "metadata": {
        "id": "5rZqFdu-LjIC"
      },
      "source": [
        "X = aff.variation\r\n",
        "y = aff.new_ind"
      ],
      "execution_count": 10,
      "outputs": []
    },
    {
      "cell_type": "code",
      "metadata": {
        "id": "5ZnY2d0XLRm5"
      },
      "source": [
        "X_train, X_test, y_train, y_test = train_test_split(X, y, stratify=y, test_size=0.2, random_state=42)\r\n",
        "X_train, X_val, y_train, y_val  = train_test_split(X_train, y_train, stratify=y_train, test_size=0.25, random_state=42)"
      ],
      "execution_count": 11,
      "outputs": []
    },
    {
      "cell_type": "code",
      "metadata": {
        "colab": {
          "base_uri": "https://localhost:8080/"
        },
        "id": "ZK4EPNB6Is6p",
        "outputId": "f19c6efc-1ddc-486e-cb0e-53c9fe9720a8"
      },
      "source": [
        "len(y_train.unique()), len(y_test.unique()), len(y_val.unique()) # все классы представлены в каждом из датасетов"
      ],
      "execution_count": 12,
      "outputs": [
        {
          "output_type": "execute_result",
          "data": {
            "text/plain": [
              "(385, 385, 385)"
            ]
          },
          "metadata": {
            "tags": []
          },
          "execution_count": 12
        }
      ]
    },
    {
      "cell_type": "markdown",
      "metadata": {
        "id": "l1gLVGkKIUhO"
      },
      "source": [
        "#Classifier logreg"
      ]
    },
    {
      "cell_type": "code",
      "metadata": {
        "id": "8Uo7LewjVgvp"
      },
      "source": [
        "vect = CountVectorizer(analyzer='char', ngram_range=(1,4), max_features=1000)\r\n",
        "X_train_cv, X_test_cv  = vect.fit_transform(X_train), vect.transform(X_test)"
      ],
      "execution_count": 149,
      "outputs": []
    },
    {
      "cell_type": "code",
      "metadata": {
        "colab": {
          "base_uri": "https://localhost:8080/"
        },
        "id": "-E4i15TZVonN",
        "outputId": "b4ced20d-76aa-4c82-e44a-82645dd59bdb"
      },
      "source": [
        "%%time\r\n",
        "reg_model = linear_model.LogisticRegression(max_iter=5000)\r\n",
        "reg_model.fit(X_train_cv, y_train)"
      ],
      "execution_count": 150,
      "outputs": [
        {
          "output_type": "stream",
          "text": [
            "CPU times: user 9min 24s, sys: 6min 21s, total: 15min 46s\n",
            "Wall time: 8min 35s\n"
          ],
          "name": "stdout"
        }
      ]
    },
    {
      "cell_type": "code",
      "metadata": {
        "id": "4jnszyfqwFBC"
      },
      "source": [
        "y_pred = reg_model.predict(X_test_cv)\r\n",
        "cl_rep = classification_report(y_test, y_pred, output_dict=True)"
      ],
      "execution_count": null,
      "outputs": []
    },
    {
      "cell_type": "code",
      "metadata": {
        "colab": {
          "base_uri": "https://localhost:8080/"
        },
        "id": "hJ-vLKomwLIp",
        "outputId": "ea5cab10-9eb7-40df-df22-3ef2334f2a0e"
      },
      "source": [
        "cl_rep['accuracy']"
      ],
      "execution_count": 159,
      "outputs": [
        {
          "output_type": "execute_result",
          "data": {
            "text/plain": [
              "0.9730941704035875"
            ]
          },
          "metadata": {
            "tags": []
          },
          "execution_count": 159
        }
      ]
    },
    {
      "cell_type": "code",
      "metadata": {
        "colab": {
          "base_uri": "https://localhost:8080/"
        },
        "id": "isTLkE8WwRKq",
        "outputId": "003809fc-76d0-4b01-9da0-9503cf85aae8"
      },
      "source": [
        "cl_rep['weighted avg']"
      ],
      "execution_count": 160,
      "outputs": [
        {
          "output_type": "execute_result",
          "data": {
            "text/plain": [
              "{'f1-score': 0.9712596259646796,\n",
              " 'precision': 0.9761144031603675,\n",
              " 'recall': 0.9730941704035875,\n",
              " 'support': 892}"
            ]
          },
          "metadata": {
            "tags": []
          },
          "execution_count": 160
        }
      ]
    },
    {
      "cell_type": "code",
      "metadata": {
        "colab": {
          "base_uri": "https://localhost:8080/"
        },
        "id": "VwME4GyrwURO",
        "outputId": "d18aa02f-6f21-4abc-b666-09b5d058f6ef"
      },
      "source": [
        "cl_rep['macro avg']"
      ],
      "execution_count": 161,
      "outputs": [
        {
          "output_type": "execute_result",
          "data": {
            "text/plain": [
              "{'f1-score': 0.9723856083449645,\n",
              " 'precision': 0.9742814977230562,\n",
              " 'recall': 0.9782251837456335,\n",
              " 'support': 892}"
            ]
          },
          "metadata": {
            "tags": []
          },
          "execution_count": 161
        }
      ]
    },
    {
      "cell_type": "markdown",
      "metadata": {
        "id": "xflxzjXiQrqA"
      },
      "source": [
        "# NN dataset"
      ]
    },
    {
      "cell_type": "code",
      "metadata": {
        "id": "SCJnViIKR45t"
      },
      "source": [
        "vocab = Counter()\r\n",
        "\r\n",
        "for af in aff.variation:\r\n",
        "    vocab.update(af)"
      ],
      "execution_count": 13,
      "outputs": []
    },
    {
      "cell_type": "code",
      "metadata": {
        "id": "luR0VpRuSZvl"
      },
      "source": [
        "char2id = {'UNK':1, 'PAD':0}\r\n",
        "\r\n",
        "for char in vocab:\r\n",
        "    char2id[char] = len(char2id)"
      ],
      "execution_count": 14,
      "outputs": []
    },
    {
      "cell_type": "code",
      "metadata": {
        "id": "gLoRpp2fScNM"
      },
      "source": [
        "id2char = {i:char for char, i in char2id.items()}"
      ],
      "execution_count": 15,
      "outputs": []
    },
    {
      "cell_type": "code",
      "metadata": {
        "id": "MX7ZI9oLSiLQ"
      },
      "source": [
        "X = []\r\n",
        "\r\n",
        "for word in aff.variation:\r\n",
        "    ids = np.array([char2id.get(token, 1) for token in word])\r\n",
        "    X.append(ids)"
      ],
      "execution_count": 16,
      "outputs": []
    },
    {
      "cell_type": "code",
      "metadata": {
        "colab": {
          "base_uri": "https://localhost:8080/"
        },
        "id": "wxGSMER2THJI",
        "outputId": "ed87e70c-5a35-4824-f1c8-df8e39052f67"
      },
      "source": [
        "MAX_LEN = max(len(x) for x in X)\r\n",
        "MAX_LEN"
      ],
      "execution_count": 84,
      "outputs": [
        {
          "output_type": "execute_result",
          "data": {
            "text/plain": [
              "232"
            ]
          },
          "metadata": {
            "tags": []
          },
          "execution_count": 84
        }
      ]
    },
    {
      "cell_type": "code",
      "metadata": {
        "id": "jXwmUO-I0kv0"
      },
      "source": [
        "def prepare_dataset(data, max=232):\r\n",
        "  res = []\r\n",
        "  for word in data:\r\n",
        "    ids = np.array([char2id.get(token, 1) for token in word])\r\n",
        "    res.append(ids)\r\n",
        "  res = tf.keras.preprocessing.sequence.pad_sequences(res, maxlen=max)\r\n",
        "  return res"
      ],
      "execution_count": 87,
      "outputs": []
    },
    {
      "cell_type": "code",
      "metadata": {
        "id": "ZL83Gmdc1AWG"
      },
      "source": [
        "X_train_rn = prepare_dataset(X_train)\r\n",
        "X_val_rn = prepare_dataset(X_val)\r\n",
        "X_test_rn = prepare_dataset(X_test)\r\n",
        "\r\n",
        "y_train_rn = tf.keras.utils.to_categorical(y_train)\r\n",
        "y_val_rn = tf.keras.utils.to_categorical(y_val)\r\n",
        "y_test_rn = tf.keras.utils.to_categorical(y_test)"
      ],
      "execution_count": 88,
      "outputs": []
    },
    {
      "cell_type": "code",
      "metadata": {
        "colab": {
          "base_uri": "https://localhost:8080/"
        },
        "id": "pu0ZpNkO1aLR",
        "outputId": "57cf0996-ce3c-4e48-ed8e-61e6f9b018ea"
      },
      "source": [
        "X_train_rn.shape, y_train.shape"
      ],
      "execution_count": 57,
      "outputs": [
        {
          "output_type": "execute_result",
          "data": {
            "text/plain": [
              "((2673, 232), (2673,))"
            ]
          },
          "metadata": {
            "tags": []
          },
          "execution_count": 57
        }
      ]
    },
    {
      "cell_type": "markdown",
      "metadata": {
        "id": "Pm-D48QD95Xa"
      },
      "source": [
        "# CNN"
      ]
    },
    {
      "cell_type": "code",
      "metadata": {
        "id": "DzTzSY1vxsoy"
      },
      "source": [
        "model = tf.keras.Sequential()\r\n",
        "model.add(tf.keras.layers.Embedding(input_dim=len(char2id), \r\n",
        "                                    input_length=MAX_LEN, output_dim=10))\r\n",
        "model.add(tf.keras.layers.Conv1D(kernel_size=8, filters=4, strides=1))\r\n",
        "model.add(tf.keras.layers.Flatten())\r\n",
        "model.add(tf.keras.layers.Dense(600, activation=\"relu\"))\r\n",
        "model.add(tf.keras.layers.Dense(385, activation='softmax'))\r\n",
        "opt = SGD(lr=0.0005, momentum=0.9)\r\n",
        "callback = tf.keras.callbacks.EarlyStopping(monitor='loss', patience=3)\r\n",
        "model.compile(loss='categorical_crossentropy', optimizer=opt, metrics=['accuracy'])"
      ],
      "execution_count": 143,
      "outputs": []
    },
    {
      "cell_type": "code",
      "metadata": {
        "colab": {
          "base_uri": "https://localhost:8080/"
        },
        "id": "3KZJjzLx1ub5",
        "outputId": "2c304f0e-8189-4b00-d437-c17a58883397"
      },
      "source": [
        "model.summary()"
      ],
      "execution_count": 59,
      "outputs": [
        {
          "output_type": "stream",
          "text": [
            "Model: \"sequential_8\"\n",
            "_________________________________________________________________\n",
            "Layer (type)                 Output Shape              Param #   \n",
            "=================================================================\n",
            "embedding_8 (Embedding)      (None, 232, 10)           1690      \n",
            "_________________________________________________________________\n",
            "conv1d_8 (Conv1D)            (None, 225, 4)            324       \n",
            "_________________________________________________________________\n",
            "flatten_8 (Flatten)          (None, 900)               0         \n",
            "_________________________________________________________________\n",
            "dense_16 (Dense)             (None, 600)               540600    \n",
            "_________________________________________________________________\n",
            "dense_17 (Dense)             (None, 385)               231385    \n",
            "=================================================================\n",
            "Total params: 773,999\n",
            "Trainable params: 773,999\n",
            "Non-trainable params: 0\n",
            "_________________________________________________________________\n"
          ],
          "name": "stdout"
        }
      ]
    },
    {
      "cell_type": "code",
      "metadata": {
        "colab": {
          "base_uri": "https://localhost:8080/"
        },
        "id": "KmwX1wEexXw6",
        "outputId": "95bb345b-7bac-4634-8869-cdf44989f3fb"
      },
      "source": [
        "model.fit(X_train_rn, y_train_rn, \r\n",
        "          validation_data=(X_val_rn, y_val_rn),\r\n",
        "          batch_size=1,\r\n",
        "          epochs=25, \r\n",
        "          callbacks=[callback])"
      ],
      "execution_count": 144,
      "outputs": [
        {
          "output_type": "stream",
          "text": [
            "Epoch 1/25\n",
            "2673/2673 [==============================] - 12s 4ms/step - loss: 5.7198 - accuracy: 0.0543 - val_loss: 5.4575 - val_accuracy: 0.0752\n",
            "Epoch 2/25\n",
            "2673/2673 [==============================] - 11s 4ms/step - loss: 5.4436 - accuracy: 0.0691 - val_loss: 5.2425 - val_accuracy: 0.0763\n",
            "Epoch 3/25\n",
            "2673/2673 [==============================] - 11s 4ms/step - loss: 5.2219 - accuracy: 0.0773 - val_loss: 4.9253 - val_accuracy: 0.0786\n",
            "Epoch 4/25\n",
            "2673/2673 [==============================] - 11s 4ms/step - loss: 4.8154 - accuracy: 0.0871 - val_loss: 4.2133 - val_accuracy: 0.1336\n",
            "Epoch 5/25\n",
            "2673/2673 [==============================] - 12s 4ms/step - loss: 3.6679 - accuracy: 0.2535 - val_loss: 2.6105 - val_accuracy: 0.4725\n",
            "Epoch 6/25\n",
            "2673/2673 [==============================] - 16s 6ms/step - loss: 1.9109 - accuracy: 0.5706 - val_loss: 1.7522 - val_accuracy: 0.6465\n",
            "Epoch 7/25\n",
            "2673/2673 [==============================] - 13s 5ms/step - loss: 0.9667 - accuracy: 0.7713 - val_loss: 1.4758 - val_accuracy: 0.7239\n",
            "Epoch 8/25\n",
            "2673/2673 [==============================] - 12s 4ms/step - loss: 0.6397 - accuracy: 0.8410 - val_loss: 1.3220 - val_accuracy: 0.7598\n",
            "Epoch 9/25\n",
            "2673/2673 [==============================] - 13s 5ms/step - loss: 0.4838 - accuracy: 0.8716 - val_loss: 1.2310 - val_accuracy: 0.7969\n",
            "Epoch 10/25\n",
            "2673/2673 [==============================] - 13s 5ms/step - loss: 0.3538 - accuracy: 0.9051 - val_loss: 1.3887 - val_accuracy: 0.7924\n",
            "Epoch 11/25\n",
            "2673/2673 [==============================] - 13s 5ms/step - loss: 0.3238 - accuracy: 0.9204 - val_loss: 1.2019 - val_accuracy: 0.8260\n",
            "Epoch 12/25\n",
            "2673/2673 [==============================] - 12s 5ms/step - loss: 0.2280 - accuracy: 0.9353 - val_loss: 1.2291 - val_accuracy: 0.8406\n",
            "Epoch 13/25\n",
            "2673/2673 [==============================] - 13s 5ms/step - loss: 0.1830 - accuracy: 0.9482 - val_loss: 1.1793 - val_accuracy: 0.8485\n",
            "Epoch 14/25\n",
            "2673/2673 [==============================] - 12s 5ms/step - loss: 0.1249 - accuracy: 0.9638 - val_loss: 1.1422 - val_accuracy: 0.8496\n",
            "Epoch 15/25\n",
            "2673/2673 [==============================] - 12s 5ms/step - loss: 0.1160 - accuracy: 0.9696 - val_loss: 1.1497 - val_accuracy: 0.8575\n",
            "Epoch 16/25\n",
            "2673/2673 [==============================] - 12s 5ms/step - loss: 0.0889 - accuracy: 0.9714 - val_loss: 1.2193 - val_accuracy: 0.8462\n",
            "Epoch 17/25\n",
            "2673/2673 [==============================] - 13s 5ms/step - loss: 0.0877 - accuracy: 0.9765 - val_loss: 1.2529 - val_accuracy: 0.8507\n",
            "Epoch 18/25\n",
            "2673/2673 [==============================] - 13s 5ms/step - loss: 0.0763 - accuracy: 0.9748 - val_loss: 1.1778 - val_accuracy: 0.8597\n",
            "Epoch 19/25\n",
            "2673/2673 [==============================] - 13s 5ms/step - loss: 0.0606 - accuracy: 0.9824 - val_loss: 1.2111 - val_accuracy: 0.8563\n",
            "Epoch 20/25\n",
            "2673/2673 [==============================] - 13s 5ms/step - loss: 0.0531 - accuracy: 0.9844 - val_loss: 1.2390 - val_accuracy: 0.8597\n",
            "Epoch 21/25\n",
            "2673/2673 [==============================] - 12s 5ms/step - loss: 0.0546 - accuracy: 0.9843 - val_loss: 1.2427 - val_accuracy: 0.8620\n",
            "Epoch 22/25\n",
            "2673/2673 [==============================] - 13s 5ms/step - loss: 0.0247 - accuracy: 0.9927 - val_loss: 1.2498 - val_accuracy: 0.8597\n",
            "Epoch 23/25\n",
            "2673/2673 [==============================] - 13s 5ms/step - loss: 0.0213 - accuracy: 0.9941 - val_loss: 1.2657 - val_accuracy: 0.8676\n",
            "Epoch 24/25\n",
            "2673/2673 [==============================] - 13s 5ms/step - loss: 0.0290 - accuracy: 0.9908 - val_loss: 1.2860 - val_accuracy: 0.8597\n",
            "Epoch 25/25\n",
            "2673/2673 [==============================] - 13s 5ms/step - loss: 0.0292 - accuracy: 0.9921 - val_loss: 1.2850 - val_accuracy: 0.8642\n"
          ],
          "name": "stdout"
        },
        {
          "output_type": "execute_result",
          "data": {
            "text/plain": [
              "<tensorflow.python.keras.callbacks.History at 0x7f3ccee03210>"
            ]
          },
          "metadata": {
            "tags": []
          },
          "execution_count": 144
        }
      ]
    },
    {
      "cell_type": "code",
      "metadata": {
        "id": "Zt6sy1CAscBG"
      },
      "source": [
        "y_pred_rn = model.predict_classes(X_test_rn)\r\n",
        "cl_rep = classification_report(y_test, y_pred_rn, output_dict=True)"
      ],
      "execution_count": null,
      "outputs": []
    },
    {
      "cell_type": "code",
      "metadata": {
        "colab": {
          "base_uri": "https://localhost:8080/"
        },
        "id": "21paEMQrsZE8",
        "outputId": "7ed59079-a518-4eaf-9488-72b305006339"
      },
      "source": [
        "cl_rep['accuracy']"
      ],
      "execution_count": 146,
      "outputs": [
        {
          "output_type": "execute_result",
          "data": {
            "text/plain": [
              "0.8396860986547086"
            ]
          },
          "metadata": {
            "tags": []
          },
          "execution_count": 146
        }
      ]
    },
    {
      "cell_type": "code",
      "metadata": {
        "colab": {
          "base_uri": "https://localhost:8080/"
        },
        "id": "rGpRAsJYslXq",
        "outputId": "4260d8ba-2d76-468e-9b63-fa426dc19437"
      },
      "source": [
        "cl_rep['weighted avg']"
      ],
      "execution_count": 147,
      "outputs": [
        {
          "output_type": "execute_result",
          "data": {
            "text/plain": [
              "{'f1-score': 0.8323198895352768,\n",
              " 'precision': 0.849427681114571,\n",
              " 'recall': 0.8396860986547086,\n",
              " 'support': 892}"
            ]
          },
          "metadata": {
            "tags": []
          },
          "execution_count": 147
        }
      ]
    },
    {
      "cell_type": "code",
      "metadata": {
        "colab": {
          "base_uri": "https://localhost:8080/"
        },
        "id": "89OECJxMsmWD",
        "outputId": "20b9dbfa-3df9-4a21-e207-6f539c8f3c67"
      },
      "source": [
        "cl_rep['macro avg']"
      ],
      "execution_count": 148,
      "outputs": [
        {
          "output_type": "execute_result",
          "data": {
            "text/plain": [
              "{'f1-score': 0.8916653769971935,\n",
              " 'precision': 0.8967536105351231,\n",
              " 'recall': 0.9110761942602569,\n",
              " 'support': 892}"
            ]
          },
          "metadata": {
            "tags": []
          },
          "execution_count": 148
        }
      ]
    },
    {
      "cell_type": "markdown",
      "metadata": {
        "id": "4yVs0aIB-B-W"
      },
      "source": [
        "# LSTM"
      ]
    },
    {
      "cell_type": "code",
      "metadata": {
        "id": "xPzmaRi-boDl"
      },
      "source": [
        "model = tf.keras.Sequential()\r\n",
        "model.add(tf.keras.layers.Embedding(input_dim=len(char2id), \r\n",
        "                                    input_length=MAX_LEN, output_dim=10))\r\n",
        "model.add(tf.keras.layers.LSTM(8, input_shape=(MAX_LEN, len(vocab))))\r\n",
        "model.add(tf.keras.layers.Flatten())\r\n",
        "model.add(tf.keras.layers.Dense(600, activation=\"relu\"))\r\n",
        "model.add(tf.keras.layers.Dense(385, activation='softmax'))\r\n",
        "opt = SGD(lr=0.01, momentum=0.9)\r\n",
        "callback = tf.keras.callbacks.EarlyStopping(monitor='loss', patience=3)\r\n",
        "model.compile(loss='categorical_crossentropy', optimizer=opt, metrics=['accuracy'])"
      ],
      "execution_count": 128,
      "outputs": []
    },
    {
      "cell_type": "code",
      "metadata": {
        "colab": {
          "base_uri": "https://localhost:8080/"
        },
        "id": "ykSP087Sbseb",
        "outputId": "2cb155cb-bcc4-4bff-8b5f-3edd2741fc8e"
      },
      "source": [
        "model.fit(X_train_rn, y_train_rn, \r\n",
        "          validation_data=(X_val_rn, y_val_rn),\r\n",
        "          batch_size=1,\r\n",
        "          epochs=25,\r\n",
        "          callbacks=[callback])"
      ],
      "execution_count": 129,
      "outputs": [
        {
          "output_type": "stream",
          "text": [
            "Epoch 1/25\n",
            "2673/2673 [==============================] - 107s 39ms/step - loss: 5.6536 - accuracy: 0.0661 - val_loss: 5.3510 - val_accuracy: 0.0752\n",
            "Epoch 2/25\n",
            "2673/2673 [==============================] - 104s 39ms/step - loss: 5.3356 - accuracy: 0.0750 - val_loss: 5.1578 - val_accuracy: 0.0224\n",
            "Epoch 3/25\n",
            "2673/2673 [==============================] - 104s 39ms/step - loss: 5.1113 - accuracy: 0.0724 - val_loss: 4.9330 - val_accuracy: 0.0943\n",
            "Epoch 4/25\n",
            "2673/2673 [==============================] - 105s 39ms/step - loss: 4.8662 - accuracy: 0.0793 - val_loss: 4.5508 - val_accuracy: 0.1066\n",
            "Epoch 5/25\n",
            "2673/2673 [==============================] - 105s 39ms/step - loss: 4.5080 - accuracy: 0.0946 - val_loss: 4.4986 - val_accuracy: 0.1021\n",
            "Epoch 6/25\n",
            "2673/2673 [==============================] - 104s 39ms/step - loss: 4.1065 - accuracy: 0.1267 - val_loss: 4.2809 - val_accuracy: 0.0584\n",
            "Epoch 7/25\n",
            "2673/2673 [==============================] - 104s 39ms/step - loss: 3.8951 - accuracy: 0.1441 - val_loss: 3.6170 - val_accuracy: 0.1796\n",
            "Epoch 8/25\n",
            "2673/2673 [==============================] - 105s 39ms/step - loss: 3.4882 - accuracy: 0.1754 - val_loss: 3.3637 - val_accuracy: 0.1987\n",
            "Epoch 9/25\n",
            "2673/2673 [==============================] - 105s 39ms/step - loss: 3.2892 - accuracy: 0.1957 - val_loss: 3.2549 - val_accuracy: 0.2334\n",
            "Epoch 10/25\n",
            "2673/2673 [==============================] - 103s 39ms/step - loss: 2.9683 - accuracy: 0.2417 - val_loss: 3.2262 - val_accuracy: 0.2525\n",
            "Epoch 11/25\n",
            "2673/2673 [==============================] - 104s 39ms/step - loss: 2.9392 - accuracy: 0.2532 - val_loss: 3.1277 - val_accuracy: 0.2727\n",
            "Epoch 12/25\n",
            "2673/2673 [==============================] - 105s 39ms/step - loss: 2.8958 - accuracy: 0.2760 - val_loss: 3.2939 - val_accuracy: 0.2031\n",
            "Epoch 13/25\n",
            "2673/2673 [==============================] - 105s 39ms/step - loss: 3.0235 - accuracy: 0.2502 - val_loss: 3.1139 - val_accuracy: 0.2615\n",
            "Epoch 14/25\n",
            "2673/2673 [==============================] - 104s 39ms/step - loss: 2.8037 - accuracy: 0.2784 - val_loss: 3.1357 - val_accuracy: 0.2626\n",
            "Epoch 15/25\n",
            "2673/2673 [==============================] - 105s 39ms/step - loss: 2.7456 - accuracy: 0.2641 - val_loss: 3.0984 - val_accuracy: 0.2536\n",
            "Epoch 16/25\n",
            "2673/2673 [==============================] - 104s 39ms/step - loss: 2.7905 - accuracy: 0.2742 - val_loss: 2.9606 - val_accuracy: 0.2750\n",
            "Epoch 17/25\n",
            "2673/2673 [==============================] - 104s 39ms/step - loss: 2.9007 - accuracy: 0.2590 - val_loss: 3.2920 - val_accuracy: 0.2346\n",
            "Epoch 18/25\n",
            "2673/2673 [==============================] - 104s 39ms/step - loss: 2.8724 - accuracy: 0.2679 - val_loss: 2.9432 - val_accuracy: 0.2649\n",
            "Epoch 19/25\n",
            "2673/2673 [==============================] - 104s 39ms/step - loss: 2.5708 - accuracy: 0.3306 - val_loss: 3.0170 - val_accuracy: 0.2727\n",
            "Epoch 20/25\n",
            "2673/2673 [==============================] - 105s 39ms/step - loss: 2.5110 - accuracy: 0.3317 - val_loss: 2.9155 - val_accuracy: 0.3098\n",
            "Epoch 21/25\n",
            "2673/2673 [==============================] - 106s 40ms/step - loss: 2.6612 - accuracy: 0.2933 - val_loss: 2.7931 - val_accuracy: 0.2896\n",
            "Epoch 22/25\n",
            "2673/2673 [==============================] - 105s 39ms/step - loss: 2.5363 - accuracy: 0.3303 - val_loss: 2.8113 - val_accuracy: 0.3109\n",
            "Epoch 23/25\n",
            "2673/2673 [==============================] - 105s 39ms/step - loss: 2.8926 - accuracy: 0.2659 - val_loss: 3.5398 - val_accuracy: 0.2088\n"
          ],
          "name": "stdout"
        },
        {
          "output_type": "execute_result",
          "data": {
            "text/plain": [
              "<tensorflow.python.keras.callbacks.History at 0x7f3cd4c93a90>"
            ]
          },
          "metadata": {
            "tags": []
          },
          "execution_count": 129
        }
      ]
    },
    {
      "cell_type": "code",
      "metadata": {
        "id": "ZPcrUhLJqzKv"
      },
      "source": [
        "y_pred_rn = model.predict_classes(X_test_rn)\r\n",
        "cl_rep = classification_report(y_test, y_pred_rn, output_dict=True)"
      ],
      "execution_count": null,
      "outputs": []
    },
    {
      "cell_type": "code",
      "metadata": {
        "colab": {
          "base_uri": "https://localhost:8080/"
        },
        "id": "K0xMImroq0MY",
        "outputId": "3aa157b3-c979-402f-cd15-7cc29ff9a9c0"
      },
      "source": [
        "cl_rep['accuracy']"
      ],
      "execution_count": 131,
      "outputs": [
        {
          "output_type": "execute_result",
          "data": {
            "text/plain": [
              "0.21188340807174888"
            ]
          },
          "metadata": {
            "tags": []
          },
          "execution_count": 131
        }
      ]
    },
    {
      "cell_type": "code",
      "metadata": {
        "colab": {
          "base_uri": "https://localhost:8080/"
        },
        "id": "H-zwwMyAry4J",
        "outputId": "736c69d4-42b5-4018-c3d6-7546d42224f9"
      },
      "source": [
        "cl_rep['weighted avg']"
      ],
      "execution_count": 135,
      "outputs": [
        {
          "output_type": "execute_result",
          "data": {
            "text/plain": [
              "{'f1-score': 0.16380753801660777,\n",
              " 'precision': 0.17779992911852302,\n",
              " 'recall': 0.21188340807174888,\n",
              " 'support': 892}"
            ]
          },
          "metadata": {
            "tags": []
          },
          "execution_count": 135
        }
      ]
    },
    {
      "cell_type": "code",
      "metadata": {
        "colab": {
          "base_uri": "https://localhost:8080/"
        },
        "id": "LpwM20D8sAHn",
        "outputId": "add9c246-c1ed-422c-8191-d540cef41a49"
      },
      "source": [
        "cl_rep['macro avg']"
      ],
      "execution_count": 136,
      "outputs": [
        {
          "output_type": "execute_result",
          "data": {
            "text/plain": [
              "{'f1-score': 0.15315795864172788,\n",
              " 'precision': 0.14827972517418644,\n",
              " 'recall': 0.203209103250829,\n",
              " 'support': 892}"
            ]
          },
          "metadata": {
            "tags": []
          },
          "execution_count": 136
        }
      ]
    }
  ]
}